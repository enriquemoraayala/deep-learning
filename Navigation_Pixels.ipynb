{
  "nbformat": 4,
  "nbformat_minor": 0,
  "metadata": {
    "kernelspec": {
      "name": "python3",
      "display_name": "Python 3.6.7 64-bit ('drlnd': conda)"
    },
    "language_info": {
      "codemirror_mode": {
        "name": "ipython",
        "version": 3
      },
      "file_extension": ".py",
      "mimetype": "text/x-python",
      "name": "python",
      "nbconvert_exporter": "python",
      "pygments_lexer": "ipython3",
      "version": "3.6.7"
    },
    "interpreter": {
      "hash": "b107f668ff1665581e3eab9940dbb222d5199fb8fe18481ded26b2b64450fc8c"
    },
    "colab": {
      "name": "Navigation_Pixels.ipynb",
      "provenance": [],
      "include_colab_link": true
    }
  },
  "cells": [
    {
      "cell_type": "markdown",
      "metadata": {
        "id": "view-in-github",
        "colab_type": "text"
      },
      "source": [
        "<a href=\"https://colab.research.google.com/github/enriquemoraayala/deep-reinforcement-learning/blob/main/Navigation_Pixels.ipynb\" target=\"_parent\"><img src=\"https://colab.research.google.com/assets/colab-badge.svg\" alt=\"Open In Colab\"/></a>"
      ]
    },
    {
      "cell_type": "markdown",
      "metadata": {
        "id": "uXBWzrpyIYsf"
      },
      "source": [
        "# Navigation\n",
        "\n",
        "---\n",
        "\n",
        "Congratulations for completing the first project of the [Deep Reinforcement Learning Nanodegree](https://www.udacity.com/course/deep-reinforcement-learning-nanodegree--nd893)!  In this notebook, you will learn how to control an agent in a more challenging environment, where it can learn directly from raw pixels!  **Note that this exercise is optional!**\n",
        "\n",
        "### 1. Start the Environment\n",
        "\n",
        "We begin by importing some necessary packages.  If the code cell below returns an error, please revisit the project instructions to double-check that you have installed [Unity ML-Agents](https://github.com/Unity-Technologies/ml-agents/blob/master/docs/Installation.md) and [NumPy](http://www.numpy.org/)."
      ]
    },
    {
      "cell_type": "code",
      "metadata": {
        "colab": {
          "base_uri": "https://localhost:8080/"
        },
        "id": "c8ROX91aSlq9",
        "outputId": "ea40044f-faef-48c0-9ee3-344b164c842c"
      },
      "source": [
        "!git clone --branch release_18 https://github.com/Unity-Technologies/ml-agents.git"
      ],
      "execution_count": null,
      "outputs": [
        {
          "output_type": "stream",
          "text": [
            "Cloning into 'ml-agents'...\n",
            "remote: Enumerating objects: 79685, done.\u001b[K\n",
            "remote: Counting objects: 100% (1071/1071), done.\u001b[K\n",
            "remote: Compressing objects: 100% (670/670), done.\u001b[K\n",
            "remote: Total 79685 (delta 548), reused 839 (delta 395), pack-reused 78614\u001b[K\n",
            "Receiving objects: 100% (79685/79685), 2.36 GiB | 11.45 MiB/s, done.\n",
            "Resolving deltas: 100% (58317/58317), done.\n",
            "Note: checking out 'c1b26d49e4f4fc692c2688531f9e7c69dba12682'.\n",
            "\n",
            "You are in 'detached HEAD' state. You can look around, make experimental\n",
            "changes and commit them, and you can discard any commits you make in this\n",
            "state without impacting any branches by performing another checkout.\n",
            "\n",
            "If you want to create a new branch to retain commits you create, you may\n",
            "do so (now or later) by using -b with the checkout command again. Example:\n",
            "\n",
            "  git checkout -b <new-branch-name>\n",
            "\n",
            "Checking out files: 100% (2079/2079), done.\n"
          ],
          "name": "stdout"
        }
      ]
    },
    {
      "cell_type": "code",
      "metadata": {
        "id": "coJavp17TfL4"
      },
      "source": [
        "!cd ml-agents/ml-agents/"
      ],
      "execution_count": null,
      "outputs": []
    },
    {
      "cell_type": "code",
      "metadata": {
        "colab": {
          "base_uri": "https://localhost:8080/"
        },
        "id": "hZDXmiI9T-SW",
        "outputId": "2db91660-5880-4a2a-fe6c-f655e64ef31d"
      },
      "source": [
        "!pip3 install -e ./ml-agents/ml-agents/"
      ],
      "execution_count": null,
      "outputs": [
        {
          "output_type": "stream",
          "text": [
            "Obtaining file:///content/ml-agents/ml-agents\n",
            "Requirement already satisfied: grpcio>=1.11.0 in /usr/local/lib/python3.7/dist-packages (from mlagents==0.27.0) (1.34.1)\n",
            "Requirement already satisfied: h5py>=2.9.0 in /usr/local/lib/python3.7/dist-packages (from mlagents==0.27.0) (3.1.0)\n",
            "Collecting mlagents_envs==0.27.0\n",
            "  Downloading mlagents_envs-0.27.0-py3-none-any.whl (75 kB)\n",
            "\u001b[K     |████████████████████████████████| 75 kB 3.0 MB/s \n",
            "\u001b[?25hRequirement already satisfied: numpy<2.0,>=1.13.3 in /usr/local/lib/python3.7/dist-packages (from mlagents==0.27.0) (1.19.5)\n",
            "Requirement already satisfied: Pillow>=4.2.1 in /usr/local/lib/python3.7/dist-packages (from mlagents==0.27.0) (7.1.2)\n",
            "Requirement already satisfied: protobuf>=3.6 in /usr/local/lib/python3.7/dist-packages (from mlagents==0.27.0) (3.17.3)\n",
            "Requirement already satisfied: pyyaml>=3.1.0 in /usr/local/lib/python3.7/dist-packages (from mlagents==0.27.0) (3.13)\n",
            "Requirement already satisfied: tensorboard>=1.15 in /usr/local/lib/python3.7/dist-packages (from mlagents==0.27.0) (2.5.0)\n",
            "Requirement already satisfied: attrs>=19.3.0 in /usr/local/lib/python3.7/dist-packages (from mlagents==0.27.0) (21.2.0)\n",
            "Collecting torch<1.9.0,>=1.6.0\n",
            "  Downloading torch-1.8.1-cp37-cp37m-manylinux1_x86_64.whl (804.1 MB)\n",
            "\u001b[K     |████████████████████████████████| 804.1 MB 2.6 kB/s \n",
            "\u001b[?25hCollecting cattrs<1.1.0\n",
            "  Downloading cattrs-1.0.0-py2.py3-none-any.whl (14 kB)\n",
            "Requirement already satisfied: importlib_metadata in /usr/local/lib/python3.7/dist-packages (from mlagents==0.27.0) (4.6.1)\n",
            "Requirement already satisfied: cloudpickle in /usr/local/lib/python3.7/dist-packages (from mlagents_envs==0.27.0->mlagents==0.27.0) (1.3.0)\n",
            "Requirement already satisfied: six>=1.5.2 in /usr/local/lib/python3.7/dist-packages (from grpcio>=1.11.0->mlagents==0.27.0) (1.15.0)\n",
            "Requirement already satisfied: cached-property in /usr/local/lib/python3.7/dist-packages (from h5py>=2.9.0->mlagents==0.27.0) (1.5.2)\n",
            "Requirement already satisfied: setuptools>=41.0.0 in /usr/local/lib/python3.7/dist-packages (from tensorboard>=1.15->mlagents==0.27.0) (57.2.0)\n",
            "Requirement already satisfied: google-auth<2,>=1.6.3 in /usr/local/lib/python3.7/dist-packages (from tensorboard>=1.15->mlagents==0.27.0) (1.32.1)\n",
            "Requirement already satisfied: tensorboard-plugin-wit>=1.6.0 in /usr/local/lib/python3.7/dist-packages (from tensorboard>=1.15->mlagents==0.27.0) (1.8.0)\n",
            "Requirement already satisfied: absl-py>=0.4 in /usr/local/lib/python3.7/dist-packages (from tensorboard>=1.15->mlagents==0.27.0) (0.12.0)\n",
            "Requirement already satisfied: tensorboard-data-server<0.7.0,>=0.6.0 in /usr/local/lib/python3.7/dist-packages (from tensorboard>=1.15->mlagents==0.27.0) (0.6.1)\n",
            "Requirement already satisfied: wheel>=0.26 in /usr/local/lib/python3.7/dist-packages (from tensorboard>=1.15->mlagents==0.27.0) (0.36.2)\n",
            "Requirement already satisfied: google-auth-oauthlib<0.5,>=0.4.1 in /usr/local/lib/python3.7/dist-packages (from tensorboard>=1.15->mlagents==0.27.0) (0.4.4)\n",
            "Requirement already satisfied: markdown>=2.6.8 in /usr/local/lib/python3.7/dist-packages (from tensorboard>=1.15->mlagents==0.27.0) (3.3.4)\n",
            "Requirement already satisfied: werkzeug>=0.11.15 in /usr/local/lib/python3.7/dist-packages (from tensorboard>=1.15->mlagents==0.27.0) (1.0.1)\n",
            "Requirement already satisfied: requests<3,>=2.21.0 in /usr/local/lib/python3.7/dist-packages (from tensorboard>=1.15->mlagents==0.27.0) (2.23.0)\n",
            "Requirement already satisfied: cachetools<5.0,>=2.0.0 in /usr/local/lib/python3.7/dist-packages (from google-auth<2,>=1.6.3->tensorboard>=1.15->mlagents==0.27.0) (4.2.2)\n",
            "Requirement already satisfied: rsa<5,>=3.1.4 in /usr/local/lib/python3.7/dist-packages (from google-auth<2,>=1.6.3->tensorboard>=1.15->mlagents==0.27.0) (4.7.2)\n",
            "Requirement already satisfied: pyasn1-modules>=0.2.1 in /usr/local/lib/python3.7/dist-packages (from google-auth<2,>=1.6.3->tensorboard>=1.15->mlagents==0.27.0) (0.2.8)\n",
            "Requirement already satisfied: requests-oauthlib>=0.7.0 in /usr/local/lib/python3.7/dist-packages (from google-auth-oauthlib<0.5,>=0.4.1->tensorboard>=1.15->mlagents==0.27.0) (1.3.0)\n",
            "Requirement already satisfied: pyasn1<0.5.0,>=0.4.6 in /usr/local/lib/python3.7/dist-packages (from pyasn1-modules>=0.2.1->google-auth<2,>=1.6.3->tensorboard>=1.15->mlagents==0.27.0) (0.4.8)\n",
            "Requirement already satisfied: chardet<4,>=3.0.2 in /usr/local/lib/python3.7/dist-packages (from requests<3,>=2.21.0->tensorboard>=1.15->mlagents==0.27.0) (3.0.4)\n",
            "Requirement already satisfied: certifi>=2017.4.17 in /usr/local/lib/python3.7/dist-packages (from requests<3,>=2.21.0->tensorboard>=1.15->mlagents==0.27.0) (2021.5.30)\n",
            "Requirement already satisfied: idna<3,>=2.5 in /usr/local/lib/python3.7/dist-packages (from requests<3,>=2.21.0->tensorboard>=1.15->mlagents==0.27.0) (2.10)\n",
            "Requirement already satisfied: urllib3!=1.25.0,!=1.25.1,<1.26,>=1.21.1 in /usr/local/lib/python3.7/dist-packages (from requests<3,>=2.21.0->tensorboard>=1.15->mlagents==0.27.0) (1.24.3)\n",
            "Requirement already satisfied: oauthlib>=3.0.0 in /usr/local/lib/python3.7/dist-packages (from requests-oauthlib>=0.7.0->google-auth-oauthlib<0.5,>=0.4.1->tensorboard>=1.15->mlagents==0.27.0) (3.1.1)\n",
            "Requirement already satisfied: typing-extensions in /usr/local/lib/python3.7/dist-packages (from torch<1.9.0,>=1.6.0->mlagents==0.27.0) (3.7.4.3)\n",
            "Requirement already satisfied: zipp>=0.5 in /usr/local/lib/python3.7/dist-packages (from importlib_metadata->mlagents==0.27.0) (3.5.0)\n",
            "Installing collected packages: torch, mlagents-envs, cattrs, mlagents\n",
            "  Attempting uninstall: torch\n",
            "    Found existing installation: torch 1.9.0+cu102\n",
            "    Uninstalling torch-1.9.0+cu102:\n",
            "      Successfully uninstalled torch-1.9.0+cu102\n",
            "  Running setup.py develop for mlagents\n",
            "\u001b[31mERROR: pip's dependency resolver does not currently take into account all the packages that are installed. This behaviour is the source of the following dependency conflicts.\n",
            "torchvision 0.10.0+cu102 requires torch==1.9.0, but you have torch 1.8.1 which is incompatible.\n",
            "torchtext 0.10.0 requires torch==1.9.0, but you have torch 1.8.1 which is incompatible.\u001b[0m\n",
            "Successfully installed cattrs-1.0.0 mlagents-0.27.0 mlagents-envs-0.27.0 torch-1.8.1\n"
          ],
          "name": "stdout"
        }
      ]
    },
    {
      "cell_type": "code",
      "metadata": {
        "colab": {
          "base_uri": "https://localhost:8080/"
        },
        "id": "7u-deAEsMkBa",
        "outputId": "810e790b-f170-4703-d290-61de2cb7f8de"
      },
      "source": [
        "!unzip VisualBanana_Linux_NoVis.zip"
      ],
      "execution_count": null,
      "outputs": [
        {
          "output_type": "stream",
          "text": [
            "Archive:  VisualBanana_Linux_NoVis.zip\n",
            "   creating: VisualBanana_Linux_NoVis/\n",
            "  inflating: VisualBanana_Linux_NoVis/Banana.x86  \n",
            "   creating: VisualBanana_Linux_NoVis/Banana_Data/\n",
            "   creating: VisualBanana_Linux_NoVis/Banana_Data/Managed/\n",
            "  inflating: VisualBanana_Linux_NoVis/Banana_Data/Managed/UnityEngine.AudioModule.dll.mdb  \n",
            "  inflating: VisualBanana_Linux_NoVis/Banana_Data/Managed/UnityEngine.InputModule.dll.mdb  \n",
            "  inflating: VisualBanana_Linux_NoVis/Banana_Data/Managed/UnityEngine.TerrainPhysicsModule.dll  \n",
            "  inflating: VisualBanana_Linux_NoVis/Banana_Data/Managed/Mono.Posix.dll  \n",
            "  inflating: VisualBanana_Linux_NoVis/Banana_Data/Managed/UnityEngine.UnityWebRequestAudioModule.dll.mdb  \n",
            "  inflating: VisualBanana_Linux_NoVis/Banana_Data/Managed/UnityEngine.SpriteMaskModule.dll  \n",
            "  inflating: VisualBanana_Linux_NoVis/Banana_Data/Managed/UnityEngine.UnityConnectModule.dll.mdb  \n",
            "  inflating: VisualBanana_Linux_NoVis/Banana_Data/Managed/UnityEngine.CrashReportingModule.dll  \n",
            "  inflating: VisualBanana_Linux_NoVis/Banana_Data/Managed/UnityEngine.Physics2DModule.dll.mdb  \n",
            "  inflating: VisualBanana_Linux_NoVis/Banana_Data/Managed/UnityEngine.UnityAnalyticsModule.dll  \n",
            "  inflating: VisualBanana_Linux_NoVis/Banana_Data/Managed/UnityEngine.TextRenderingModule.dll.mdb  \n",
            "  inflating: VisualBanana_Linux_NoVis/Banana_Data/Managed/UnityEngine.UnityWebRequestWWWModule.dll  \n",
            "  inflating: VisualBanana_Linux_NoVis/Banana_Data/Managed/UnityEngine.ARModule.dll  \n",
            "  inflating: VisualBanana_Linux_NoVis/Banana_Data/Managed/Google.Protobuf.dll  \n",
            "  inflating: VisualBanana_Linux_NoVis/Banana_Data/Managed/UnityEngine.AccessibilityModule.dll  \n",
            "  inflating: VisualBanana_Linux_NoVis/Banana_Data/Managed/UnityEngine.WebModule.dll.mdb  \n",
            "  inflating: VisualBanana_Linux_NoVis/Banana_Data/Managed/System.Configuration.dll  \n",
            "  inflating: VisualBanana_Linux_NoVis/Banana_Data/Managed/UnityEngine.SpriteShapeModule.dll  \n",
            "  inflating: VisualBanana_Linux_NoVis/Banana_Data/Managed/UnityEngine.TextRenderingModule.dll  \n",
            "  inflating: VisualBanana_Linux_NoVis/Banana_Data/Managed/UnityEngine.GameCenterModule.dll.mdb  \n",
            "  inflating: VisualBanana_Linux_NoVis/Banana_Data/Managed/Assembly-CSharp.dll  \n",
            "  inflating: VisualBanana_Linux_NoVis/Banana_Data/Managed/UnityEngine.UnityWebRequestTextureModule.dll  \n",
            "  inflating: VisualBanana_Linux_NoVis/Banana_Data/Managed/UnityEngine.StandardEvents.dll  \n",
            "  inflating: VisualBanana_Linux_NoVis/Banana_Data/Managed/UnityEngine.UIModule.dll.mdb  \n",
            "  inflating: VisualBanana_Linux_NoVis/Banana_Data/Managed/UnityEngine.AssetBundleModule.dll  \n",
            "  inflating: VisualBanana_Linux_NoVis/Banana_Data/Managed/UnityEngine.ImageConversionModule.dll.mdb  \n",
            "  inflating: VisualBanana_Linux_NoVis/Banana_Data/Managed/UnityEngine.JSONSerializeModule.dll.mdb  \n",
            "  inflating: VisualBanana_Linux_NoVis/Banana_Data/Managed/UnityEngine.PhysicsModule.dll.mdb  \n",
            "  inflating: VisualBanana_Linux_NoVis/Banana_Data/Managed/UnityEngine.AnimationModule.dll  \n",
            "  inflating: VisualBanana_Linux_NoVis/Banana_Data/Managed/UnityEngine.AudioModule.dll  \n",
            "  inflating: VisualBanana_Linux_NoVis/Banana_Data/Managed/UnityEngine.CrashReportingModule.dll.mdb  \n",
            "  inflating: VisualBanana_Linux_NoVis/Banana_Data/Managed/UnityEngine.SharedInternalsModule.dll.mdb  \n",
            "  inflating: VisualBanana_Linux_NoVis/Banana_Data/Managed/UnityEngine.TilemapModule.dll.mdb  \n",
            "  inflating: VisualBanana_Linux_NoVis/Banana_Data/Managed/UnityEngine.ClusterInputModule.dll  \n",
            "  inflating: VisualBanana_Linux_NoVis/Banana_Data/Managed/UnityEngine.InputModule.dll  \n",
            "  inflating: VisualBanana_Linux_NoVis/Banana_Data/Managed/UnityEngine.VRModule.dll.mdb  \n",
            "  inflating: VisualBanana_Linux_NoVis/Banana_Data/Managed/UnityEngine.TerrainModule.dll.mdb  \n",
            "  inflating: VisualBanana_Linux_NoVis/Banana_Data/Managed/UnityEngine.VideoModule.dll.mdb  \n",
            "  inflating: VisualBanana_Linux_NoVis/Banana_Data/Managed/UnityEngine.DirectorModule.dll  \n",
            "  inflating: VisualBanana_Linux_NoVis/Banana_Data/Managed/UnityEngine.SpriteMaskModule.dll.mdb  \n",
            "  inflating: VisualBanana_Linux_NoVis/Banana_Data/Managed/mscorlib.dll  \n",
            "  inflating: VisualBanana_Linux_NoVis/Banana_Data/Managed/UnityEngine.DirectorModule.dll.mdb  \n",
            "  inflating: VisualBanana_Linux_NoVis/Banana_Data/Managed/UnityEngine.VehiclesModule.dll.mdb  \n",
            "  inflating: VisualBanana_Linux_NoVis/Banana_Data/Managed/UnityEngine.GameCenterModule.dll  \n",
            "  inflating: VisualBanana_Linux_NoVis/Banana_Data/Managed/UnityEngine.ParticleSystemModule.dll.mdb  \n",
            "  inflating: VisualBanana_Linux_NoVis/Banana_Data/Managed/UnityEngine.ClothModule.dll.mdb  \n",
            "  inflating: VisualBanana_Linux_NoVis/Banana_Data/Managed/UnityEngine.UnityWebRequestModule.dll.mdb  \n",
            "  inflating: VisualBanana_Linux_NoVis/Banana_Data/Managed/UnityEngine.Physics2DModule.dll  \n",
            "  inflating: VisualBanana_Linux_NoVis/Banana_Data/Managed/UnityEngine.UnityConnectModule.dll  \n",
            "  inflating: VisualBanana_Linux_NoVis/Banana_Data/Managed/UnityEngine.dll  \n",
            "  inflating: VisualBanana_Linux_NoVis/Banana_Data/Managed/UnityEngine.UnityWebRequestTextureModule.dll.mdb  \n",
            "  inflating: VisualBanana_Linux_NoVis/Banana_Data/Managed/UnityEngine.UIElementsModule.dll  \n",
            "  inflating: VisualBanana_Linux_NoVis/Banana_Data/Managed/Grpc.Core.dll  \n",
            "  inflating: VisualBanana_Linux_NoVis/Banana_Data/Managed/UnityEngine.UIModule.dll  \n",
            "  inflating: VisualBanana_Linux_NoVis/Banana_Data/Managed/UnityEngine.UI.dll  \n",
            "  inflating: VisualBanana_Linux_NoVis/Banana_Data/Managed/UnityEngine.ParticlesLegacyModule.dll  \n",
            "  inflating: VisualBanana_Linux_NoVis/Banana_Data/Managed/UnityEngine.StyleSheetsModule.dll  \n",
            "  inflating: VisualBanana_Linux_NoVis/Banana_Data/Managed/System.Interactive.Async.dll  \n",
            "  inflating: VisualBanana_Linux_NoVis/Banana_Data/Managed/UnityEngine.WebModule.dll  \n",
            "  inflating: VisualBanana_Linux_NoVis/Banana_Data/Managed/UnityEngine.Timeline.dll  \n",
            "  inflating: VisualBanana_Linux_NoVis/Banana_Data/Managed/UnityEngine.IMGUIModule.dll.mdb  \n",
            "  inflating: VisualBanana_Linux_NoVis/Banana_Data/Managed/UnityEngine.GridModule.dll  \n",
            "  inflating: VisualBanana_Linux_NoVis/Banana_Data/Managed/UnityEngine.TerrainModule.dll  \n",
            "  inflating: VisualBanana_Linux_NoVis/Banana_Data/Managed/UnityEngine.GridModule.dll.mdb  \n",
            "  inflating: VisualBanana_Linux_NoVis/Banana_Data/Managed/UnityEngine.AssetBundleModule.dll.mdb  \n",
            "  inflating: VisualBanana_Linux_NoVis/Banana_Data/Managed/UnityEngine.VRModule.dll  \n",
            "  inflating: VisualBanana_Linux_NoVis/Banana_Data/Managed/UnityEngine.JSONSerializeModule.dll  \n",
            "  inflating: VisualBanana_Linux_NoVis/Banana_Data/Managed/UnityEngine.AIModule.dll.mdb  \n",
            "  inflating: VisualBanana_Linux_NoVis/Banana_Data/Managed/UnityEngine.SpatialTracking.dll  \n",
            "  inflating: VisualBanana_Linux_NoVis/Banana_Data/Managed/Mono.Security.dll  \n",
            "  inflating: VisualBanana_Linux_NoVis/Banana_Data/Managed/UnityEngine.CoreModule.dll.mdb  \n",
            "  inflating: VisualBanana_Linux_NoVis/Banana_Data/Managed/System.dll  \n",
            "  inflating: VisualBanana_Linux_NoVis/Banana_Data/Managed/UnityEngine.SharedInternalsModule.dll  \n",
            "  inflating: VisualBanana_Linux_NoVis/Banana_Data/Managed/UnityEngine.UIElementsModule.dll.mdb  \n",
            "  inflating: VisualBanana_Linux_NoVis/Banana_Data/Managed/UnityEngine.ImageConversionModule.dll  \n",
            "  inflating: VisualBanana_Linux_NoVis/Banana_Data/Managed/UnityEngine.SpriteShapeModule.dll.mdb  \n",
            "  inflating: VisualBanana_Linux_NoVis/Banana_Data/Managed/UnityEngine.TilemapModule.dll  \n",
            "  inflating: VisualBanana_Linux_NoVis/Banana_Data/Managed/UnityEngine.ParticleSystemModule.dll  \n",
            "  inflating: VisualBanana_Linux_NoVis/Banana_Data/Managed/UnityEngine.AccessibilityModule.dll.mdb  \n",
            "  inflating: VisualBanana_Linux_NoVis/Banana_Data/Managed/UnityEngine.VehiclesModule.dll  \n",
            "  inflating: VisualBanana_Linux_NoVis/Banana_Data/Managed/UnityEngine.PhysicsModule.dll  \n",
            "  inflating: VisualBanana_Linux_NoVis/Banana_Data/Managed/UnityEngine.CoreModule.dll  \n",
            "  inflating: VisualBanana_Linux_NoVis/Banana_Data/Managed/UnityEngine.PerformanceReportingModule.dll  \n",
            "  inflating: VisualBanana_Linux_NoVis/Banana_Data/Managed/System.Xml.dll  \n",
            "  inflating: VisualBanana_Linux_NoVis/Banana_Data/Managed/UnityEngine.ClusterRendererModule.dll.mdb  \n",
            "  inflating: VisualBanana_Linux_NoVis/Banana_Data/Managed/UnityEngine.WindModule.dll  \n",
            "  inflating: VisualBanana_Linux_NoVis/Banana_Data/Managed/UnityEngine.PerformanceReportingModule.dll.mdb  \n",
            "  inflating: VisualBanana_Linux_NoVis/Banana_Data/Managed/UnityEngine.ARModule.dll.mdb  \n",
            "  inflating: VisualBanana_Linux_NoVis/Banana_Data/Managed/UnityEngine.UnityAnalyticsModule.dll.mdb  \n",
            "  inflating: VisualBanana_Linux_NoVis/Banana_Data/Managed/UnityEngine.ScreenCaptureModule.dll  \n",
            "  inflating: VisualBanana_Linux_NoVis/Banana_Data/Managed/UnityEngine.dll.mdb  \n",
            "  inflating: VisualBanana_Linux_NoVis/Banana_Data/Managed/UnityEngine.ClusterRendererModule.dll  \n",
            "  inflating: VisualBanana_Linux_NoVis/Banana_Data/Managed/UnityEngine.ClusterInputModule.dll.mdb  \n",
            "  inflating: VisualBanana_Linux_NoVis/Banana_Data/Managed/UnityEngine.UnityWebRequestModule.dll  \n",
            "  inflating: VisualBanana_Linux_NoVis/Banana_Data/Managed/UnityEngine.Networking.dll  \n",
            "  inflating: VisualBanana_Linux_NoVis/Banana_Data/Managed/UnityEngine.StyleSheetsModule.dll.mdb  \n",
            "  inflating: VisualBanana_Linux_NoVis/Banana_Data/Managed/UnityEngine.UnityWebRequestAudioModule.dll  \n",
            "  inflating: VisualBanana_Linux_NoVis/Banana_Data/Managed/UnityEngine.UNETModule.dll.mdb  \n",
            "  inflating: VisualBanana_Linux_NoVis/Banana_Data/Managed/UnityEngine.UNETModule.dll  \n",
            "  inflating: VisualBanana_Linux_NoVis/Banana_Data/Managed/UnityEngine.ClothModule.dll  \n",
            "  inflating: VisualBanana_Linux_NoVis/Banana_Data/Managed/UnityEngine.TerrainPhysicsModule.dll.mdb  \n",
            "  inflating: VisualBanana_Linux_NoVis/Banana_Data/Managed/UnityEngine.AnimationModule.dll.mdb  \n",
            "  inflating: VisualBanana_Linux_NoVis/Banana_Data/Managed/System.Security.dll  \n",
            "  inflating: VisualBanana_Linux_NoVis/Banana_Data/Managed/UnityEngine.AIModule.dll  \n",
            "  inflating: VisualBanana_Linux_NoVis/Banana_Data/Managed/UnityEngine.IMGUIModule.dll  \n",
            "  inflating: VisualBanana_Linux_NoVis/Banana_Data/Managed/System.Core.dll  \n",
            "  inflating: VisualBanana_Linux_NoVis/Banana_Data/Managed/UnityEngine.WindModule.dll.mdb  \n",
            "  inflating: VisualBanana_Linux_NoVis/Banana_Data/Managed/UnityEngine.VideoModule.dll  \n",
            "  inflating: VisualBanana_Linux_NoVis/Banana_Data/Managed/UnityEngine.ParticlesLegacyModule.dll.mdb  \n",
            "  inflating: VisualBanana_Linux_NoVis/Banana_Data/Managed/UnityEngine.ScreenCaptureModule.dll.mdb  \n",
            "  inflating: VisualBanana_Linux_NoVis/Banana_Data/Managed/UnityEngine.UnityWebRequestWWWModule.dll.mdb  \n",
            "  inflating: VisualBanana_Linux_NoVis/Banana_Data/globalgamemanagers  \n",
            "   creating: VisualBanana_Linux_NoVis/Banana_Data/GI/\n",
            "   creating: VisualBanana_Linux_NoVis/Banana_Data/GI/level0/\n",
            "   creating: VisualBanana_Linux_NoVis/Banana_Data/GI/level0/87/\n",
            "  inflating: VisualBanana_Linux_NoVis/Banana_Data/GI/level0/87/87f21ed36311061f2917889049d6b8d7.iws.sse  \n",
            "  inflating: VisualBanana_Linux_NoVis/Banana_Data/GI/level0/87/87f21ed36311061f2917889049d6b8d7.rgb  \n",
            "  inflating: VisualBanana_Linux_NoVis/Banana_Data/GI/level0/87/87f21ed36311061f2917889049d6b8d7.rsc.sse  \n",
            "  inflating: VisualBanana_Linux_NoVis/Banana_Data/GI/level0/87/87f21ed36311061f2917889049d6b8d7.vis  \n",
            "  inflating: VisualBanana_Linux_NoVis/Banana_Data/GI/level0/87/87f21ed36311061f2917889049d6b8d7.caw  \n",
            "  inflating: VisualBanana_Linux_NoVis/Banana_Data/GI/level0/87/87f21ed36311061f2917889049d6b8d7.ecm  \n",
            "   creating: VisualBanana_Linux_NoVis/Banana_Data/Plugins/\n",
            "   creating: VisualBanana_Linux_NoVis/Banana_Data/Plugins/x86/\n",
            "  inflating: VisualBanana_Linux_NoVis/Banana_Data/Plugins/x86/libgrpc_csharp_ext.x86.so  \n",
            "   creating: VisualBanana_Linux_NoVis/Banana_Data/Plugins/x86_64/\n",
            "  inflating: VisualBanana_Linux_NoVis/Banana_Data/Plugins/x86_64/libgrpc_csharp_ext.x64.so  \n",
            "  inflating: VisualBanana_Linux_NoVis/Banana_Data/boot.config  \n",
            "   creating: VisualBanana_Linux_NoVis/Banana_Data/Resources/\n",
            "  inflating: VisualBanana_Linux_NoVis/Banana_Data/Resources/unity default resources  \n",
            "  inflating: VisualBanana_Linux_NoVis/Banana_Data/Resources/unity_builtin_extra  \n",
            "  inflating: VisualBanana_Linux_NoVis/Banana_Data/Resources/UnityPlayer.png  \n",
            "   creating: VisualBanana_Linux_NoVis/Banana_Data/MonoBleedingEdge/\n",
            "   creating: VisualBanana_Linux_NoVis/Banana_Data/MonoBleedingEdge/etc/\n",
            "   creating: VisualBanana_Linux_NoVis/Banana_Data/MonoBleedingEdge/etc/mono/\n",
            "  inflating: VisualBanana_Linux_NoVis/Banana_Data/MonoBleedingEdge/etc/mono/config  \n",
            "   creating: VisualBanana_Linux_NoVis/Banana_Data/MonoBleedingEdge/etc/mono/2.0/\n",
            "  inflating: VisualBanana_Linux_NoVis/Banana_Data/MonoBleedingEdge/etc/mono/2.0/web.config  \n",
            "  inflating: VisualBanana_Linux_NoVis/Banana_Data/MonoBleedingEdge/etc/mono/2.0/machine.config  \n",
            "   creating: VisualBanana_Linux_NoVis/Banana_Data/MonoBleedingEdge/etc/mono/2.0/Browsers/\n",
            "  inflating: VisualBanana_Linux_NoVis/Banana_Data/MonoBleedingEdge/etc/mono/2.0/Browsers/Compat.browser  \n",
            "  inflating: VisualBanana_Linux_NoVis/Banana_Data/MonoBleedingEdge/etc/mono/2.0/DefaultWsdlHelpGenerator.aspx  \n",
            "  inflating: VisualBanana_Linux_NoVis/Banana_Data/MonoBleedingEdge/etc/mono/2.0/settings.map  \n",
            "   creating: VisualBanana_Linux_NoVis/Banana_Data/MonoBleedingEdge/etc/mono/4.5/\n",
            "  inflating: VisualBanana_Linux_NoVis/Banana_Data/MonoBleedingEdge/etc/mono/4.5/web.config  \n",
            "  inflating: VisualBanana_Linux_NoVis/Banana_Data/MonoBleedingEdge/etc/mono/4.5/machine.config  \n",
            "   creating: VisualBanana_Linux_NoVis/Banana_Data/MonoBleedingEdge/etc/mono/4.5/Browsers/\n",
            "  inflating: VisualBanana_Linux_NoVis/Banana_Data/MonoBleedingEdge/etc/mono/4.5/Browsers/Compat.browser  \n",
            "  inflating: VisualBanana_Linux_NoVis/Banana_Data/MonoBleedingEdge/etc/mono/4.5/DefaultWsdlHelpGenerator.aspx  \n",
            "  inflating: VisualBanana_Linux_NoVis/Banana_Data/MonoBleedingEdge/etc/mono/4.5/settings.map  \n",
            "  inflating: VisualBanana_Linux_NoVis/Banana_Data/MonoBleedingEdge/etc/mono/browscap.ini  \n",
            "   creating: VisualBanana_Linux_NoVis/Banana_Data/MonoBleedingEdge/etc/mono/mconfig/\n",
            "  inflating: VisualBanana_Linux_NoVis/Banana_Data/MonoBleedingEdge/etc/mono/mconfig/config.xml  \n",
            "   creating: VisualBanana_Linux_NoVis/Banana_Data/MonoBleedingEdge/etc/mono/4.0/\n",
            "  inflating: VisualBanana_Linux_NoVis/Banana_Data/MonoBleedingEdge/etc/mono/4.0/web.config  \n",
            "  inflating: VisualBanana_Linux_NoVis/Banana_Data/MonoBleedingEdge/etc/mono/4.0/machine.config  \n",
            "   creating: VisualBanana_Linux_NoVis/Banana_Data/MonoBleedingEdge/etc/mono/4.0/Browsers/\n",
            "  inflating: VisualBanana_Linux_NoVis/Banana_Data/MonoBleedingEdge/etc/mono/4.0/Browsers/Compat.browser  \n",
            "  inflating: VisualBanana_Linux_NoVis/Banana_Data/MonoBleedingEdge/etc/mono/4.0/DefaultWsdlHelpGenerator.aspx  \n",
            "  inflating: VisualBanana_Linux_NoVis/Banana_Data/MonoBleedingEdge/etc/mono/4.0/settings.map  \n",
            "   creating: VisualBanana_Linux_NoVis/Banana_Data/MonoBleedingEdge/x86/\n",
            "  inflating: VisualBanana_Linux_NoVis/Banana_Data/MonoBleedingEdge/x86/libmonobdwgc-2.0.so  \n",
            "  inflating: VisualBanana_Linux_NoVis/Banana_Data/MonoBleedingEdge/x86/libMonoPosixHelper.so  \n",
            "   creating: VisualBanana_Linux_NoVis/Banana_Data/MonoBleedingEdge/x86_64/\n",
            "  inflating: VisualBanana_Linux_NoVis/Banana_Data/MonoBleedingEdge/x86_64/libmonobdwgc-2.0.so  \n",
            "  inflating: VisualBanana_Linux_NoVis/Banana_Data/MonoBleedingEdge/x86_64/libMonoPosixHelper.so  \n",
            "  inflating: VisualBanana_Linux_NoVis/Banana_Data/sharedassets0.assets.resS  \n",
            "  inflating: VisualBanana_Linux_NoVis/Banana_Data/sharedassets0.assets  \n",
            "  inflating: VisualBanana_Linux_NoVis/Banana_Data/level0  \n",
            "  inflating: VisualBanana_Linux_NoVis/Banana_Data/globalgamemanagers.assets  \n",
            "  inflating: VisualBanana_Linux_NoVis/Banana.x86_64  \n"
          ],
          "name": "stdout"
        }
      ]
    },
    {
      "cell_type": "code",
      "metadata": {
        "colab": {
          "base_uri": "https://localhost:8080/"
        },
        "id": "fIbGLn68IoPt",
        "outputId": "be71d6e8-2b12-4622-9702-eedeeaf4044e"
      },
      "source": [
        "!pip install unityagents"
      ],
      "execution_count": null,
      "outputs": [
        {
          "output_type": "stream",
          "text": [
            "Collecting unityagents\n",
            "  Downloading unityagents-0.4.0-py3-none-any.whl (72 kB)\n",
            "\u001b[?25l\r\u001b[K     |████▌                           | 10 kB 22.8 MB/s eta 0:00:01\r\u001b[K     |█████████                       | 20 kB 28.6 MB/s eta 0:00:01\r\u001b[K     |█████████████▋                  | 30 kB 33.7 MB/s eta 0:00:01\r\u001b[K     |██████████████████              | 40 kB 31.5 MB/s eta 0:00:01\r\u001b[K     |██████████████████████▋         | 51 kB 11.3 MB/s eta 0:00:01\r\u001b[K     |███████████████████████████▏    | 61 kB 9.3 MB/s eta 0:00:01\r\u001b[K     |███████████████████████████████▊| 71 kB 9.5 MB/s eta 0:00:01\r\u001b[K     |████████████████████████████████| 72 kB 753 kB/s \n",
            "\u001b[?25hRequirement already satisfied: docopt in /usr/local/lib/python3.7/dist-packages (from unityagents) (0.6.2)\n",
            "Requirement already satisfied: Pillow>=4.2.1 in /usr/local/lib/python3.7/dist-packages (from unityagents) (7.1.2)\n",
            "Collecting protobuf==3.5.2\n",
            "  Downloading protobuf-3.5.2-py2.py3-none-any.whl (388 kB)\n",
            "\u001b[K     |████████████████████████████████| 388 kB 11.9 MB/s \n",
            "\u001b[?25hRequirement already satisfied: numpy>=1.11.0 in /usr/local/lib/python3.7/dist-packages (from unityagents) (1.19.5)\n",
            "Requirement already satisfied: pyyaml in /usr/local/lib/python3.7/dist-packages (from unityagents) (3.13)\n",
            "Requirement already satisfied: jupyter in /usr/local/lib/python3.7/dist-packages (from unityagents) (1.0.0)\n",
            "Collecting unityagents\n",
            "  Downloading unityagents-0.3.0.tar.gz (29 kB)\n",
            "\u001b[33mWARNING: Discarding https://files.pythonhosted.org/packages/fe/88/06f2f2ca721f118ad89ab01842fdb2e52db545a83a1c6217b55d1092d39c/unityagents-0.3.0.tar.gz#sha256=4df0a62e562c2a92b4508486ff3b80cbb108bddfc8d943148e579fe0f64cc556 (from https://pypi.org/simple/unityagents/). Command errored out with exit status 1: python setup.py egg_info Check the logs for full command output.\u001b[0m\n",
            "  Downloading unityagents-0.2.0-py3-none-any.whl (10 kB)\n",
            "Requirement already satisfied: tensorflow>=1.0 in /usr/local/lib/python3.7/dist-packages (from unityagents) (2.5.0)\n",
            "Requirement already satisfied: pytest>=3.2.2 in /usr/local/lib/python3.7/dist-packages (from unityagents) (3.6.4)\n",
            "Requirement already satisfied: matplotlib in /usr/local/lib/python3.7/dist-packages (from unityagents) (3.2.2)\n",
            "Collecting mock>=2.0.0\n",
            "  Downloading mock-4.0.3-py3-none-any.whl (28 kB)\n",
            "Requirement already satisfied: py>=1.5.0 in /usr/local/lib/python3.7/dist-packages (from pytest>=3.2.2->unityagents) (1.10.0)\n",
            "Requirement already satisfied: more-itertools>=4.0.0 in /usr/local/lib/python3.7/dist-packages (from pytest>=3.2.2->unityagents) (8.8.0)\n",
            "Requirement already satisfied: setuptools in /usr/local/lib/python3.7/dist-packages (from pytest>=3.2.2->unityagents) (57.2.0)\n",
            "Requirement already satisfied: six>=1.10.0 in /usr/local/lib/python3.7/dist-packages (from pytest>=3.2.2->unityagents) (1.15.0)\n",
            "Requirement already satisfied: atomicwrites>=1.0 in /usr/local/lib/python3.7/dist-packages (from pytest>=3.2.2->unityagents) (1.4.0)\n",
            "Requirement already satisfied: attrs>=17.4.0 in /usr/local/lib/python3.7/dist-packages (from pytest>=3.2.2->unityagents) (21.2.0)\n",
            "Requirement already satisfied: pluggy<0.8,>=0.5 in /usr/local/lib/python3.7/dist-packages (from pytest>=3.2.2->unityagents) (0.7.1)\n",
            "Requirement already satisfied: wrapt~=1.12.1 in /usr/local/lib/python3.7/dist-packages (from tensorflow>=1.0->unityagents) (1.12.1)\n",
            "Requirement already satisfied: tensorflow-estimator<2.6.0,>=2.5.0rc0 in /usr/local/lib/python3.7/dist-packages (from tensorflow>=1.0->unityagents) (2.5.0)\n",
            "Requirement already satisfied: tensorboard~=2.5 in /usr/local/lib/python3.7/dist-packages (from tensorflow>=1.0->unityagents) (2.5.0)\n",
            "Requirement already satisfied: keras-preprocessing~=1.1.2 in /usr/local/lib/python3.7/dist-packages (from tensorflow>=1.0->unityagents) (1.1.2)\n",
            "Requirement already satisfied: flatbuffers~=1.12.0 in /usr/local/lib/python3.7/dist-packages (from tensorflow>=1.0->unityagents) (1.12)\n",
            "Requirement already satisfied: gast==0.4.0 in /usr/local/lib/python3.7/dist-packages (from tensorflow>=1.0->unityagents) (0.4.0)\n",
            "Requirement already satisfied: absl-py~=0.10 in /usr/local/lib/python3.7/dist-packages (from tensorflow>=1.0->unityagents) (0.12.0)\n",
            "Requirement already satisfied: typing-extensions~=3.7.4 in /usr/local/lib/python3.7/dist-packages (from tensorflow>=1.0->unityagents) (3.7.4.3)\n",
            "Requirement already satisfied: protobuf>=3.9.2 in /usr/local/lib/python3.7/dist-packages (from tensorflow>=1.0->unityagents) (3.17.3)\n",
            "Requirement already satisfied: h5py~=3.1.0 in /usr/local/lib/python3.7/dist-packages (from tensorflow>=1.0->unityagents) (3.1.0)\n",
            "Requirement already satisfied: google-pasta~=0.2 in /usr/local/lib/python3.7/dist-packages (from tensorflow>=1.0->unityagents) (0.2.0)\n",
            "Requirement already satisfied: termcolor~=1.1.0 in /usr/local/lib/python3.7/dist-packages (from tensorflow>=1.0->unityagents) (1.1.0)\n",
            "Requirement already satisfied: grpcio~=1.34.0 in /usr/local/lib/python3.7/dist-packages (from tensorflow>=1.0->unityagents) (1.34.1)\n",
            "Requirement already satisfied: astunparse~=1.6.3 in /usr/local/lib/python3.7/dist-packages (from tensorflow>=1.0->unityagents) (1.6.3)\n",
            "Requirement already satisfied: wheel~=0.35 in /usr/local/lib/python3.7/dist-packages (from tensorflow>=1.0->unityagents) (0.36.2)\n",
            "Requirement already satisfied: keras-nightly~=2.5.0.dev in /usr/local/lib/python3.7/dist-packages (from tensorflow>=1.0->unityagents) (2.5.0.dev2021032900)\n",
            "Requirement already satisfied: opt-einsum~=3.3.0 in /usr/local/lib/python3.7/dist-packages (from tensorflow>=1.0->unityagents) (3.3.0)\n",
            "Requirement already satisfied: cached-property in /usr/local/lib/python3.7/dist-packages (from h5py~=3.1.0->tensorflow>=1.0->unityagents) (1.5.2)\n",
            "Requirement already satisfied: google-auth-oauthlib<0.5,>=0.4.1 in /usr/local/lib/python3.7/dist-packages (from tensorboard~=2.5->tensorflow>=1.0->unityagents) (0.4.4)\n",
            "Requirement already satisfied: tensorboard-data-server<0.7.0,>=0.6.0 in /usr/local/lib/python3.7/dist-packages (from tensorboard~=2.5->tensorflow>=1.0->unityagents) (0.6.1)\n",
            "Requirement already satisfied: tensorboard-plugin-wit>=1.6.0 in /usr/local/lib/python3.7/dist-packages (from tensorboard~=2.5->tensorflow>=1.0->unityagents) (1.8.0)\n",
            "Requirement already satisfied: werkzeug>=0.11.15 in /usr/local/lib/python3.7/dist-packages (from tensorboard~=2.5->tensorflow>=1.0->unityagents) (1.0.1)\n",
            "Requirement already satisfied: google-auth<2,>=1.6.3 in /usr/local/lib/python3.7/dist-packages (from tensorboard~=2.5->tensorflow>=1.0->unityagents) (1.32.1)\n",
            "Requirement already satisfied: requests<3,>=2.21.0 in /usr/local/lib/python3.7/dist-packages (from tensorboard~=2.5->tensorflow>=1.0->unityagents) (2.23.0)\n",
            "Requirement already satisfied: markdown>=2.6.8 in /usr/local/lib/python3.7/dist-packages (from tensorboard~=2.5->tensorflow>=1.0->unityagents) (3.3.4)\n",
            "Requirement already satisfied: cachetools<5.0,>=2.0.0 in /usr/local/lib/python3.7/dist-packages (from google-auth<2,>=1.6.3->tensorboard~=2.5->tensorflow>=1.0->unityagents) (4.2.2)\n",
            "Requirement already satisfied: pyasn1-modules>=0.2.1 in /usr/local/lib/python3.7/dist-packages (from google-auth<2,>=1.6.3->tensorboard~=2.5->tensorflow>=1.0->unityagents) (0.2.8)\n",
            "Requirement already satisfied: rsa<5,>=3.1.4 in /usr/local/lib/python3.7/dist-packages (from google-auth<2,>=1.6.3->tensorboard~=2.5->tensorflow>=1.0->unityagents) (4.7.2)\n",
            "Requirement already satisfied: requests-oauthlib>=0.7.0 in /usr/local/lib/python3.7/dist-packages (from google-auth-oauthlib<0.5,>=0.4.1->tensorboard~=2.5->tensorflow>=1.0->unityagents) (1.3.0)\n",
            "Requirement already satisfied: importlib-metadata in /usr/local/lib/python3.7/dist-packages (from markdown>=2.6.8->tensorboard~=2.5->tensorflow>=1.0->unityagents) (4.6.1)\n",
            "Requirement already satisfied: pyasn1<0.5.0,>=0.4.6 in /usr/local/lib/python3.7/dist-packages (from pyasn1-modules>=0.2.1->google-auth<2,>=1.6.3->tensorboard~=2.5->tensorflow>=1.0->unityagents) (0.4.8)\n",
            "Requirement already satisfied: chardet<4,>=3.0.2 in /usr/local/lib/python3.7/dist-packages (from requests<3,>=2.21.0->tensorboard~=2.5->tensorflow>=1.0->unityagents) (3.0.4)\n",
            "Requirement already satisfied: certifi>=2017.4.17 in /usr/local/lib/python3.7/dist-packages (from requests<3,>=2.21.0->tensorboard~=2.5->tensorflow>=1.0->unityagents) (2021.5.30)\n",
            "Requirement already satisfied: urllib3!=1.25.0,!=1.25.1,<1.26,>=1.21.1 in /usr/local/lib/python3.7/dist-packages (from requests<3,>=2.21.0->tensorboard~=2.5->tensorflow>=1.0->unityagents) (1.24.3)\n",
            "Requirement already satisfied: idna<3,>=2.5 in /usr/local/lib/python3.7/dist-packages (from requests<3,>=2.21.0->tensorboard~=2.5->tensorflow>=1.0->unityagents) (2.10)\n",
            "Requirement already satisfied: oauthlib>=3.0.0 in /usr/local/lib/python3.7/dist-packages (from requests-oauthlib>=0.7.0->google-auth-oauthlib<0.5,>=0.4.1->tensorboard~=2.5->tensorflow>=1.0->unityagents) (3.1.1)\n",
            "Requirement already satisfied: zipp>=0.5 in /usr/local/lib/python3.7/dist-packages (from importlib-metadata->markdown>=2.6.8->tensorboard~=2.5->tensorflow>=1.0->unityagents) (3.5.0)\n",
            "Requirement already satisfied: ipykernel in /usr/local/lib/python3.7/dist-packages (from jupyter->unityagents) (4.10.1)\n",
            "Requirement already satisfied: qtconsole in /usr/local/lib/python3.7/dist-packages (from jupyter->unityagents) (5.1.1)\n",
            "Requirement already satisfied: ipywidgets in /usr/local/lib/python3.7/dist-packages (from jupyter->unityagents) (7.6.3)\n",
            "Requirement already satisfied: notebook in /usr/local/lib/python3.7/dist-packages (from jupyter->unityagents) (5.3.1)\n",
            "Requirement already satisfied: jupyter-console in /usr/local/lib/python3.7/dist-packages (from jupyter->unityagents) (5.2.0)\n",
            "Requirement already satisfied: nbconvert in /usr/local/lib/python3.7/dist-packages (from jupyter->unityagents) (5.6.1)\n",
            "Requirement already satisfied: ipython>=4.0.0 in /usr/local/lib/python3.7/dist-packages (from ipykernel->jupyter->unityagents) (5.5.0)\n",
            "Requirement already satisfied: tornado>=4.0 in /usr/local/lib/python3.7/dist-packages (from ipykernel->jupyter->unityagents) (5.1.1)\n",
            "Requirement already satisfied: jupyter-client in /usr/local/lib/python3.7/dist-packages (from ipykernel->jupyter->unityagents) (5.3.5)\n",
            "Requirement already satisfied: traitlets>=4.1.0 in /usr/local/lib/python3.7/dist-packages (from ipykernel->jupyter->unityagents) (5.0.5)\n",
            "Requirement already satisfied: prompt-toolkit<2.0.0,>=1.0.4 in /usr/local/lib/python3.7/dist-packages (from ipython>=4.0.0->ipykernel->jupyter->unityagents) (1.0.18)\n",
            "Requirement already satisfied: simplegeneric>0.8 in /usr/local/lib/python3.7/dist-packages (from ipython>=4.0.0->ipykernel->jupyter->unityagents) (0.8.1)\n",
            "Requirement already satisfied: pexpect in /usr/local/lib/python3.7/dist-packages (from ipython>=4.0.0->ipykernel->jupyter->unityagents) (4.8.0)\n",
            "Requirement already satisfied: pygments in /usr/local/lib/python3.7/dist-packages (from ipython>=4.0.0->ipykernel->jupyter->unityagents) (2.6.1)\n",
            "Requirement already satisfied: decorator in /usr/local/lib/python3.7/dist-packages (from ipython>=4.0.0->ipykernel->jupyter->unityagents) (4.4.2)\n",
            "Requirement already satisfied: pickleshare in /usr/local/lib/python3.7/dist-packages (from ipython>=4.0.0->ipykernel->jupyter->unityagents) (0.7.5)\n",
            "Requirement already satisfied: wcwidth in /usr/local/lib/python3.7/dist-packages (from prompt-toolkit<2.0.0,>=1.0.4->ipython>=4.0.0->ipykernel->jupyter->unityagents) (0.2.5)\n",
            "Requirement already satisfied: ipython-genutils in /usr/local/lib/python3.7/dist-packages (from traitlets>=4.1.0->ipykernel->jupyter->unityagents) (0.2.0)\n",
            "Requirement already satisfied: jupyterlab-widgets>=1.0.0 in /usr/local/lib/python3.7/dist-packages (from ipywidgets->jupyter->unityagents) (1.0.0)\n",
            "Requirement already satisfied: widgetsnbextension~=3.5.0 in /usr/local/lib/python3.7/dist-packages (from ipywidgets->jupyter->unityagents) (3.5.1)\n",
            "Requirement already satisfied: nbformat>=4.2.0 in /usr/local/lib/python3.7/dist-packages (from ipywidgets->jupyter->unityagents) (5.1.3)\n",
            "Requirement already satisfied: jsonschema!=2.5.0,>=2.4 in /usr/local/lib/python3.7/dist-packages (from nbformat>=4.2.0->ipywidgets->jupyter->unityagents) (2.6.0)\n",
            "Requirement already satisfied: jupyter-core in /usr/local/lib/python3.7/dist-packages (from nbformat>=4.2.0->ipywidgets->jupyter->unityagents) (4.7.1)\n",
            "Requirement already satisfied: Send2Trash in /usr/local/lib/python3.7/dist-packages (from notebook->jupyter->unityagents) (1.7.1)\n",
            "Requirement already satisfied: terminado>=0.8.1 in /usr/local/lib/python3.7/dist-packages (from notebook->jupyter->unityagents) (0.10.1)\n",
            "Requirement already satisfied: jinja2 in /usr/local/lib/python3.7/dist-packages (from notebook->jupyter->unityagents) (2.11.3)\n",
            "Requirement already satisfied: pyzmq>=13 in /usr/local/lib/python3.7/dist-packages (from jupyter-client->ipykernel->jupyter->unityagents) (22.1.0)\n",
            "Requirement already satisfied: python-dateutil>=2.1 in /usr/local/lib/python3.7/dist-packages (from jupyter-client->ipykernel->jupyter->unityagents) (2.8.1)\n",
            "Requirement already satisfied: ptyprocess in /usr/local/lib/python3.7/dist-packages (from terminado>=0.8.1->notebook->jupyter->unityagents) (0.7.0)\n",
            "Requirement already satisfied: MarkupSafe>=0.23 in /usr/local/lib/python3.7/dist-packages (from jinja2->notebook->jupyter->unityagents) (2.0.1)\n",
            "Requirement already satisfied: kiwisolver>=1.0.1 in /usr/local/lib/python3.7/dist-packages (from matplotlib->unityagents) (1.3.1)\n",
            "Requirement already satisfied: cycler>=0.10 in /usr/local/lib/python3.7/dist-packages (from matplotlib->unityagents) (0.10.0)\n",
            "Requirement already satisfied: pyparsing!=2.0.4,!=2.1.2,!=2.1.6,>=2.0.1 in /usr/local/lib/python3.7/dist-packages (from matplotlib->unityagents) (2.4.7)\n",
            "Requirement already satisfied: mistune<2,>=0.8.1 in /usr/local/lib/python3.7/dist-packages (from nbconvert->jupyter->unityagents) (0.8.4)\n",
            "Requirement already satisfied: pandocfilters>=1.4.1 in /usr/local/lib/python3.7/dist-packages (from nbconvert->jupyter->unityagents) (1.4.3)\n",
            "Requirement already satisfied: bleach in /usr/local/lib/python3.7/dist-packages (from nbconvert->jupyter->unityagents) (3.3.0)\n",
            "Requirement already satisfied: entrypoints>=0.2.2 in /usr/local/lib/python3.7/dist-packages (from nbconvert->jupyter->unityagents) (0.3)\n",
            "Requirement already satisfied: defusedxml in /usr/local/lib/python3.7/dist-packages (from nbconvert->jupyter->unityagents) (0.7.1)\n",
            "Requirement already satisfied: testpath in /usr/local/lib/python3.7/dist-packages (from nbconvert->jupyter->unityagents) (0.5.0)\n",
            "Requirement already satisfied: webencodings in /usr/local/lib/python3.7/dist-packages (from bleach->nbconvert->jupyter->unityagents) (0.5.1)\n",
            "Requirement already satisfied: packaging in /usr/local/lib/python3.7/dist-packages (from bleach->nbconvert->jupyter->unityagents) (21.0)\n",
            "Requirement already satisfied: qtpy in /usr/local/lib/python3.7/dist-packages (from qtconsole->jupyter->unityagents) (1.9.0)\n",
            "Installing collected packages: mock, unityagents\n",
            "Successfully installed mock-4.0.3 unityagents-0.2.0\n"
          ],
          "name": "stdout"
        }
      ]
    },
    {
      "cell_type": "code",
      "metadata": {
        "id": "kH89UUVnIYsi"
      },
      "source": [
        "from unityagents import UnityEnvironment\n",
        "import numpy as np\n",
        "import matplotlib.pyplot as plt\n",
        "%matplotlib inline"
      ],
      "execution_count": null,
      "outputs": []
    },
    {
      "cell_type": "code",
      "metadata": {
        "id": "iJegCnxNImxx"
      },
      "source": [
        ""
      ],
      "execution_count": null,
      "outputs": []
    },
    {
      "cell_type": "markdown",
      "metadata": {
        "id": "wirD3taBIYsj"
      },
      "source": [
        "Next, we will start the environment!  **_Before running the code cell below_**, change the `file_name` parameter to match the location of the Unity environment that you downloaded.\n",
        "\n",
        "- **Mac**: `\"path/to/VisualBanana.app\"`\n",
        "- **Windows** (x86): `\"path/to/VisualBanana_Windows_x86/Banana.exe\"`\n",
        "- **Windows** (x86_64): `\"path/to/VisualBanana_Windows_x86_64/Banana.exe\"`\n",
        "- **Linux** (x86): `\"path/to/VisualBanana_Linux/Banana.x86\"`\n",
        "- **Linux** (x86_64): `\"path/to/VisualBanana_Linux/Banana.x86_64\"`\n",
        "- **Linux** (x86, headless): `\"path/to/VisualBanana_Linux_NoVis/Banana.x86\"`\n",
        "- **Linux** (x86_64, headless): `\"path/to/VisualBanana_Linux_NoVis/Banana.x86_64\"`\n",
        "\n",
        "For instance, if you are using a Mac, then you downloaded `VisualBanana.app`.  If this file is in the same folder as the notebook, then the line below should appear as follows:\n",
        "```\n",
        "env = UnityEnvironment(file_name=\"VisualBanana.app\")\n",
        "```"
      ]
    },
    {
      "cell_type": "code",
      "metadata": {
        "colab": {
          "base_uri": "https://localhost:8080/",
          "height": 283
        },
        "id": "0QcjAFTlIYsk",
        "outputId": "88c7e8ba-88e5-418b-9ed1-7efae38be93d"
      },
      "source": [
        "env = UnityEnvironment(file_name=\"./VisualBanana_Linux_NoVis/Banana.x86\")"
      ],
      "execution_count": null,
      "outputs": [
        {
          "output_type": "error",
          "ename": "UnicodeDecodeError",
          "evalue": "ignored",
          "traceback": [
            "\u001b[0;31m---------------------------------------------------------------------------\u001b[0m",
            "\u001b[0;31mUnicodeDecodeError\u001b[0m                        Traceback (most recent call last)",
            "\u001b[0;32m<ipython-input-2-b76952c02c96>\u001b[0m in \u001b[0;36m<module>\u001b[0;34m()\u001b[0m\n\u001b[0;32m----> 1\u001b[0;31m \u001b[0menv\u001b[0m \u001b[0;34m=\u001b[0m \u001b[0mUnityEnvironment\u001b[0m\u001b[0;34m(\u001b[0m\u001b[0mfile_name\u001b[0m\u001b[0;34m=\u001b[0m\u001b[0;34m\"./VisualBanana_Linux_NoVis/Banana.x86\"\u001b[0m\u001b[0;34m)\u001b[0m\u001b[0;34m\u001b[0m\u001b[0;34m\u001b[0m\u001b[0m\n\u001b[0m",
            "\u001b[0;32m/usr/local/lib/python3.7/dist-packages/unityagents/environment.py\u001b[0m in \u001b[0;36m__init__\u001b[0;34m(self, file_name, worker_id, base_port, curriculum)\u001b[0m\n\u001b[1;32m     99\u001b[0m                 \u001b[0mself\u001b[0m\u001b[0;34m.\u001b[0m\u001b[0m_conn\u001b[0m\u001b[0;34m,\u001b[0m \u001b[0m_\u001b[0m \u001b[0;34m=\u001b[0m \u001b[0mself\u001b[0m\u001b[0;34m.\u001b[0m\u001b[0m_socket\u001b[0m\u001b[0;34m.\u001b[0m\u001b[0maccept\u001b[0m\u001b[0;34m(\u001b[0m\u001b[0;34m)\u001b[0m\u001b[0;34m\u001b[0m\u001b[0;34m\u001b[0m\u001b[0m\n\u001b[1;32m    100\u001b[0m                 \u001b[0mself\u001b[0m\u001b[0;34m.\u001b[0m\u001b[0m_conn\u001b[0m\u001b[0;34m.\u001b[0m\u001b[0msettimeout\u001b[0m\u001b[0;34m(\u001b[0m\u001b[0;36m30\u001b[0m\u001b[0;34m)\u001b[0m\u001b[0;34m\u001b[0m\u001b[0;34m\u001b[0m\u001b[0m\n\u001b[0;32m--> 101\u001b[0;31m                 \u001b[0mp\u001b[0m \u001b[0;34m=\u001b[0m \u001b[0mself\u001b[0m\u001b[0;34m.\u001b[0m\u001b[0m_conn\u001b[0m\u001b[0;34m.\u001b[0m\u001b[0mrecv\u001b[0m\u001b[0;34m(\u001b[0m\u001b[0mself\u001b[0m\u001b[0;34m.\u001b[0m\u001b[0m_buffer_size\u001b[0m\u001b[0;34m)\u001b[0m\u001b[0;34m.\u001b[0m\u001b[0mdecode\u001b[0m\u001b[0;34m(\u001b[0m\u001b[0;34m'utf-8'\u001b[0m\u001b[0;34m)\u001b[0m\u001b[0;34m\u001b[0m\u001b[0;34m\u001b[0m\u001b[0m\n\u001b[0m\u001b[1;32m    102\u001b[0m                 \u001b[0mp\u001b[0m \u001b[0;34m=\u001b[0m \u001b[0mjson\u001b[0m\u001b[0;34m.\u001b[0m\u001b[0mloads\u001b[0m\u001b[0;34m(\u001b[0m\u001b[0mp\u001b[0m\u001b[0;34m)\u001b[0m\u001b[0;34m\u001b[0m\u001b[0;34m\u001b[0m\u001b[0m\n\u001b[1;32m    103\u001b[0m             \u001b[0;32mexcept\u001b[0m \u001b[0msocket\u001b[0m\u001b[0;34m.\u001b[0m\u001b[0mtimeout\u001b[0m \u001b[0;32mas\u001b[0m \u001b[0me\u001b[0m\u001b[0;34m:\u001b[0m\u001b[0;34m\u001b[0m\u001b[0;34m\u001b[0m\u001b[0m\n",
            "\u001b[0;31mUnicodeDecodeError\u001b[0m: 'utf-8' codec can't decode byte 0xfe in position 63: invalid start byte"
          ]
        }
      ]
    },
    {
      "cell_type": "markdown",
      "metadata": {
        "id": "u78AEm7FIYsk"
      },
      "source": [
        "Environments contain **_brains_** which are responsible for deciding the actions of their associated agents. Here we check for the first brain available, and set it as the default brain we will be controlling from Python."
      ]
    },
    {
      "cell_type": "code",
      "metadata": {
        "id": "1g-DkKv7IYsk"
      },
      "source": [
        "# get the default brain\n",
        "brain_name = env.brain_names[0]\n",
        "brain = env.brains[brain_name]"
      ],
      "execution_count": null,
      "outputs": []
    },
    {
      "cell_type": "markdown",
      "metadata": {
        "id": "folruWQhIYsl"
      },
      "source": [
        "### 2. Examine the State and Action Spaces\n",
        "\n",
        "The simulation contains a single agent that navigates a large environment.  At each time step, it has four actions at its disposal:\n",
        "- `0` - walk forward \n",
        "- `1` - walk backward\n",
        "- `2` - turn left\n",
        "- `3` - turn right\n",
        "\n",
        "The environment state is an array of raw pixels with shape `(1, 84, 84, 3)`.  *Note that this code differs from the notebook for the project, where we are grabbing **`visual_observations`** (the raw pixels) instead of **`vector_observations`**.* A reward of `+1` is provided for collecting a yellow banana, and a reward of `-1` is provided for collecting a blue banana. \n",
        "\n",
        "Run the code cell below to print some information about the environment."
      ]
    },
    {
      "cell_type": "code",
      "metadata": {
        "id": "lshVZ4zOIYsl",
        "outputId": "ba716027-63a2-4660-9c9c-64cd7edfa79d"
      },
      "source": [
        "# reset the environment\n",
        "env_info = env.reset(train_mode=True)[brain_name]\n",
        "\n",
        "# number of agents in the environment\n",
        "print('Number of agents:', len(env_info.agents))\n",
        "\n",
        "# number of actions\n",
        "action_size = brain.vector_action_space_size\n",
        "print('Number of actions:', action_size)\n",
        "\n",
        "# examine the state space \n",
        "state = env_info.visual_observations[0]\n",
        "print('States look like:')\n",
        "plt.imshow(np.squeeze(state))\n",
        "plt.show()\n",
        "state_size = state.shape\n",
        "print('States have shape:', state.shape)"
      ],
      "execution_count": null,
      "outputs": [
        {
          "output_type": "stream",
          "text": [
            "Number of agents: 1\n",
            "Number of actions: 4\n",
            "States look like:\n"
          ],
          "name": "stdout"
        },
        {
          "output_type": "display_data",
          "data": {
            "text/plain": [
              "<Figure size 432x288 with 1 Axes>"
            ],
            "image/png": "[encoded data removed]"
          },
          "metadata": {
            "tags": [],
            "needs_background": "light"
          }
        },
        {
          "output_type": "stream",
          "text": [
            "States have shape: (1, 84, 84, 3)\n"
          ],
          "name": "stdout"
        }
      ]
    },
    {
      "cell_type": "markdown",
      "metadata": {
        "id": "ladpyrMdIYsm"
      },
      "source": [
        "### 3. Take Random Actions in the Environment\n",
        "\n",
        "In the next code cell, you will learn how to use the Python API to control the agent and receive feedback from the environment.\n",
        "\n",
        "Once this cell is executed, you will watch the agent's performance, if it selects an action (uniformly) at random with each time step.  A window should pop up that allows you to observe the agent, as it moves through the environment.  \n",
        "\n",
        "Of course, you'll have to change the code so that the agent is able to use its experience to gradually choose better actions when interacting with the environment!"
      ]
    },
    {
      "cell_type": "code",
      "metadata": {
        "id": "BESeV2cmIYsm"
      },
      "source": [
        "env_info = env.reset(train_mode=False)[brain_name] # reset the environment\n",
        "state = env_info.visual_observations[0]            # get the current state\n",
        "score = 0                                          # initialize the score\n",
        "while True:\n",
        "    action = np.random.randint(action_size)        # select an action\n",
        "    env_info = env.step(action)[brain_name]        # send the action to the environment\n",
        "    next_state = env_info.visual_observations[0]   # get the next state\n",
        "    reward = env_info.rewards[0]                   # get the reward\n",
        "    done = env_info.local_done[0]                  # see if episode has finished\n",
        "    score += reward                                # update the score\n",
        "    state = next_state                             # roll over the state to next time step\n",
        "    if done:                                       # exit loop if episode finished\n",
        "        break\n",
        "    \n",
        "print(\"Score: {}\".format(score))"
      ],
      "execution_count": null,
      "outputs": []
    },
    {
      "cell_type": "markdown",
      "metadata": {
        "id": "JoRciLirIYsn"
      },
      "source": [
        "When finished, you can close the environment."
      ]
    },
    {
      "cell_type": "code",
      "metadata": {
        "id": "VAtN99mhIYso"
      },
      "source": [
        "env.close()"
      ],
      "execution_count": null,
      "outputs": []
    },
    {
      "cell_type": "markdown",
      "metadata": {
        "id": "aJG-LBB7IYso"
      },
      "source": [
        "### 4. It's Your Turn!\n",
        "\n",
        "Now it's your turn to train your own agent to solve the environment!  When training the environment, set `train_mode=True`, so that the line for resetting the environment looks like the following:\n",
        "```python\n",
        "env_info = env.reset(train_mode=True)[brain_name]\n",
        "```"
      ]
    },
    {
      "cell_type": "code",
      "metadata": {
        "id": "6l4Bg-8lIYso"
      },
      "source": [
        "from unityagents import UnityEnvironment\n",
        "\n",
        "import gym\n",
        "import random\n",
        "import torch\n",
        "import numpy as np\n",
        "from collections import deque\n",
        "import matplotlib.pyplot as plt\n",
        "%matplotlib inline\n",
        "\n",
        "from visual_dqn_agent import Agent\n",
        "\n",
        "env = UnityEnvironment(file_name=\"VisualBanana.app\")\n",
        "\n",
        "# get the default brain\n",
        "brain_name = env.brain_names[0]\n",
        "brain = env.brains[brain_name]\n",
        "\n",
        "env_info = env.reset(train_mode=True)[brain_name]\n",
        "\n",
        "\n",
        "action_size = brain.vector_action_space_size\n",
        "state = env_info.vector_observations[0]\n",
        "state_size = len(state)\n",
        "\n",
        "agent = Agent(state_size, action_size, seed=0)"
      ],
      "execution_count": null,
      "outputs": []
    },
    {
      "cell_type": "code",
      "metadata": {
        "id": "--HRNGW-IYso"
      },
      "source": [
        "def cnn_dqn(n_episodes=2000, max_t=1000, eps_start=1.0, eps_end=0.01, eps_decay=0.995):\n",
        "    \"\"\"Deep Q-Learning.\n",
        "    \n",
        "    Params\n",
        "    ======\n",
        "        n_episodes (int): maximum number of training episodes\n",
        "        max_t (int): maximum number of timesteps per episode\n",
        "        eps_start (float): starting value of epsilon, for epsilon-greedy action selection\n",
        "        eps_end (float): minimum value of epsilon\n",
        "        eps_decay (float): multiplicative factor (per episode) for decreasing epsilon\n",
        "    \"\"\"\n",
        "    scores = []                        # list containing scores from each episode\n",
        "    scores_window = deque(maxlen=100)  # last 100 scores\n",
        "    eps = eps_start  \n",
        "    # initialize epsilon\n",
        "    for i_episode in range(1, n_episodes+1):\n",
        "        env_info = env.reset(train_mode=False)[brain_name]\n",
        "        state = env_info.vector_observations[0] \n",
        "        score = 0\n",
        "                 # see if episode has finished\n",
        "        for t in range(max_t):\n",
        "            action = agent.act(state, eps)\n",
        "\n",
        "            env_info = env.step(action)[brain_name] \n",
        "            next_state = env_info.vector_observations[0]   # get the next state\n",
        "            reward = env_info.rewards[0]                   # get the reward\n",
        "            done = env_info.local_done[0] \n",
        "            agent.step(state, action, reward, next_state, done)\n",
        "            state = next_state\n",
        "            score += reward\n",
        "            if done:\n",
        "                break \n",
        "        scores_window.append(score)       # save most recent score\n",
        "        scores.append(score)              # save most recent score\n",
        "        eps = max(eps_end, eps_decay*eps) # decrease epsilon\n",
        "        print('\\rEpisode {}\\tAverage Score: {:.2f}'.format(i_episode, np.mean(scores_window)), end=\"\")\n",
        "        if i_episode % 100 == 0:\n",
        "            print('\\rEpisode {}\\tAverage Score: {:.2f}'.format(i_episode, np.mean(scores_window)))\n",
        "            torch.save(agent.qnetwork_local.state_dict(), 'checkpoint_visual.pth')\n",
        "        if np.mean(scores_window)>=13.0:\n",
        "            print('\\nEnvironment solved in {:d} episodes!\\tAverage Score: {:.2f}'.format(i_episode-100, np.mean(scores_window)))\n",
        "            torch.save(agent.qnetwork_local.state_dict(), 'checkpoint_visual.pth')\n",
        "            break\n",
        "    return scores"
      ],
      "execution_count": null,
      "outputs": []
    },
    {
      "cell_type": "code",
      "metadata": {
        "id": "iUp7SsrnIYsp"
      },
      "source": [
        "scores = cnn_dqn()\n",
        "\n",
        "# plot the scores\n",
        "fig = plt.figure()\n",
        "ax = fig.add_subplot(111)\n",
        "plt.plot(np.arange(len(scores)), scores)\n",
        "plt.ylabel('Score')\n",
        "plt.xlabel('Episode #')\n",
        "plt.show()"
      ],
      "execution_count": null,
      "outputs": []
    }
  ]
}