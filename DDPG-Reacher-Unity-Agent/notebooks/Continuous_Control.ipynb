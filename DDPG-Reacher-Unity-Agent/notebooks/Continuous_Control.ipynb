{
 "cells": [
  {
   "cell_type": "markdown",
   "metadata": {},
   "source": [
    "# Continuous Control\n",
    "\n",
    "---\n",
    "\n",
    "You are welcome to use this coding environment to train your agent for the project.  Follow the instructions below to get started!\n",
    "\n",
    "### 1. Start the Environment\n",
    "\n",
    "Run the next code cell to install a few packages.  This line will take a few minutes to run!"
   ]
  },
  {
   "cell_type": "code",
   "execution_count": null,
   "metadata": {},
   "outputs": [],
   "source": [
    "!pip -q install ./python"
   ]
  },
  {
   "cell_type": "code",
   "execution_count": null,
   "metadata": {},
   "outputs": [],
   "source": []
  },
  {
   "cell_type": "markdown",
   "metadata": {},
   "source": [
    "The environments corresponding to both versions of the environment are already saved in the Workspace and can be accessed at the file paths provided below.  \n",
    "\n",
    "Please select one of the two options below for loading the environment."
   ]
  },
  {
   "cell_type": "code",
   "execution_count": null,
   "metadata": {},
   "outputs": [],
   "source": [
    "from unityagents import UnityEnvironment\n",
    "import numpy as np\n",
    "\n",
    "# select this option to load version 1 (with a single agent) of the environment\n",
    "env = UnityEnvironment(file_name='/data/Reacher_One_Linux_NoVis/Reacher_One_Linux_NoVis.x86_64')\n",
    "\n",
    "# select this option to load version 2 (with 20 agents) of the environment\n",
    "# env = UnityEnvironment(file_name='/data/Reacher_Linux_NoVis/Reacher.x86_64')"
   ]
  },
  {
   "cell_type": "markdown",
   "metadata": {},
   "source": [
    "Environments contain **_brains_** which are responsible for deciding the actions of their associated agents. Here we check for the first brain available, and set it as the default brain we will be controlling from Python."
   ]
  },
  {
   "cell_type": "code",
   "execution_count": null,
   "metadata": {},
   "outputs": [],
   "source": [
    "# get the default brain\n",
    "brain_name = env.brain_names[0]\n",
    "brain = env.brains[brain_name]"
   ]
  },
  {
   "cell_type": "markdown",
   "metadata": {},
   "source": [
    "### 2. Examine the State and Action Spaces\n",
    "\n",
    "Run the code cell below to print some information about the environment."
   ]
  },
  {
   "cell_type": "code",
   "execution_count": null,
   "metadata": {},
   "outputs": [],
   "source": [
    "# reset the environment\n",
    "env_info = env.reset(train_mode=True)[brain_name]\n",
    "\n",
    "# number of agents\n",
    "num_agents = len(env_info.agents)\n",
    "print('Number of agents:', num_agents)\n",
    "\n",
    "# size of each action\n",
    "action_size = brain.vector_action_space_size\n",
    "print('Size of each action:', action_size)\n",
    "\n",
    "# examine the state space \n",
    "states = env_info.vector_observations\n",
    "state_size = states.shape[1]\n",
    "print('There are {} agents. Each observes a state with length: {}'.format(states.shape[0], state_size))\n",
    "print('The state for the first agent looks like:', states[0])"
   ]
  },
  {
   "cell_type": "markdown",
   "metadata": {},
   "source": [
    "### 3. Take Random Actions in the Environment\n",
    "\n",
    "In the next code cell, you will learn how to use the Python API to control the agent and receive feedback from the environment.\n",
    "\n",
    "Note that **in this coding environment, you will not be able to watch the agents while they are training**, and you should set `train_mode=True` to restart the environment."
   ]
  },
  {
   "cell_type": "code",
   "execution_count": null,
   "metadata": {},
   "outputs": [],
   "source": [
    "env_info = env.reset(train_mode=True)[brain_name]      # reset the environment    \n",
    "states = env_info.vector_observations                  # get the current state (for each agent)\n",
    "scores = np.zeros(num_agents)                          # initialize the score (for each agent)\n",
    "while True:\n",
    "    actions = np.random.randn(num_agents, action_size) # select an action (for each agent)\n",
    "    actions = np.clip(actions, -1, 1)                  # all actions between -1 and 1\n",
    "    env_info = env.step(actions)[brain_name]           # send all actions to tne environment\n",
    "    next_states = env_info.vector_observations         # get next state (for each agent)\n",
    "    rewards = env_info.rewards                         # get reward (for each agent)\n",
    "    dones = env_info.local_done                        # see if episode finished\n",
    "    scores += env_info.rewards                         # update the score (for each agent)\n",
    "    states = next_states                               # roll over states to next time step\n",
    "    if np.any(dones):                                  # exit loop if episode finished\n",
    "        break\n",
    "print('Total score (averaged over agents) this episode: {}'.format(np.mean(scores)))"
   ]
  },
  {
   "cell_type": "markdown",
   "metadata": {},
   "source": [
    "When finished, you can close the environment."
   ]
  },
  {
   "cell_type": "code",
   "execution_count": null,
   "metadata": {},
   "outputs": [],
   "source": [
    "env.close()"
   ]
  },
  {
   "cell_type": "markdown",
   "metadata": {},
   "source": [
    "### 4. It's Your Turn!\n",
    "\n",
    "Now it's your turn to train your own agent to solve the environment!  A few **important notes**:\n",
    "- When training the environment, set `train_mode=True`, so that the line for resetting the environment looks like the following:\n",
    "```python\n",
    "env_info = env.reset(train_mode=True)[brain_name]\n",
    "```\n",
    "- To structure your work, you're welcome to work directly in this Jupyter notebook, or you might like to start over with a new file!  You can see the list of files in the workspace by clicking on **_Jupyter_** in the top left corner of the notebook.\n",
    "- In this coding environment, you will not be able to watch the agents while they are training.  However, **_after training the agents_**, you can download the saved model weights to watch the agents on your own machine! "
   ]
  },
  {
   "cell_type": "code",
   "execution_count": 6,
   "metadata": {},
   "outputs": [
    {
     "name": "stdout",
     "output_type": "stream",
     "text": [
      "\u001b[31mipython 6.5.0 has requirement prompt-toolkit<2.0.0,>=1.0.15, but you'll have prompt-toolkit 3.0.20 which is incompatible.\u001b[0m\r\n",
      "\u001b[31mtensorflow 1.7.1 has requirement numpy>=1.13.3, but you'll have numpy 1.12.1 which is incompatible.\u001b[0m\r\n"
     ]
    }
   ],
   "source": [
    "!pip -q install ./python"
   ]
  },
  {
   "cell_type": "code",
   "execution_count": 7,
   "metadata": {},
   "outputs": [],
   "source": [
    "import sys\n",
    "sys.path.insert(0, '/home/workspace/python/src/')\n",
    "sys.path.insert(0, '/home/workspace/python/utils/')\n",
    "from workspace_utils import active_session"
   ]
  },
  {
   "cell_type": "code",
   "execution_count": 8,
   "metadata": {},
   "outputs": [],
   "source": [
    "from os import write\n",
    "import gym\n",
    "import random\n",
    "import torch\n",
    "import numpy as np\n",
    "import os\n",
    "import matplotlib.pyplot as plt\n",
    "from collections import deque\n",
    "from ddpg_agent import Agent\n"
   ]
  },
  {
   "cell_type": "code",
   "execution_count": 9,
   "metadata": {},
   "outputs": [
    {
     "name": "stderr",
     "output_type": "stream",
     "text": [
      "INFO:unityagents:\n",
      "'Academy' started successfully!\n",
      "Unity Academy name: Academy\n",
      "        Number of Brains: 1\n",
      "        Number of External Brains : 1\n",
      "        Lesson number : 0\n",
      "        Reset Parameters :\n",
      "\t\tgoal_speed -> 1.0\n",
      "\t\tgoal_size -> 5.0\n",
      "Unity brain name: ReacherBrain\n",
      "        Number of Visual Observations (per agent): 0\n",
      "        Vector Observation space type: continuous\n",
      "        Vector Observation space size (per agent): 33\n",
      "        Number of stacked Vector Observation: 1\n",
      "        Vector Action space type: continuous\n",
      "        Vector Action space size (per agent): 4\n",
      "        Vector Action descriptions: , , , \n"
     ]
    }
   ],
   "source": [
    "from unityagents import UnityEnvironment\n",
    "import numpy as np\n",
    "\n",
    "# select this option to load version 1 (with a single agent) of the environment\n",
    "env = UnityEnvironment(file_name='/data/Reacher_One_Linux_NoVis/Reacher_One_Linux_NoVis.x86_64')"
   ]
  },
  {
   "cell_type": "code",
   "execution_count": 10,
   "metadata": {},
   "outputs": [
    {
     "name": "stdout",
     "output_type": "stream",
     "text": [
      "Number of agents: 1\n",
      "Size of each action: 4\n",
      "There are 1 agents. Each observes a state with length: 33\n",
      "The state for the first agent looks like: [  0.00000000e+00  -4.00000000e+00   0.00000000e+00   1.00000000e+00\n",
      "  -0.00000000e+00  -0.00000000e+00  -4.37113883e-08   0.00000000e+00\n",
      "   0.00000000e+00   0.00000000e+00   0.00000000e+00   0.00000000e+00\n",
      "   0.00000000e+00   0.00000000e+00  -1.00000000e+01   0.00000000e+00\n",
      "   1.00000000e+00  -0.00000000e+00  -0.00000000e+00  -4.37113883e-08\n",
      "   0.00000000e+00   0.00000000e+00   0.00000000e+00   0.00000000e+00\n",
      "   0.00000000e+00   0.00000000e+00   5.75471878e+00  -1.00000000e+00\n",
      "   5.55726671e+00   0.00000000e+00   1.00000000e+00   0.00000000e+00\n",
      "  -1.68164849e-01]\n"
     ]
    }
   ],
   "source": [
    "# get the default brain\n",
    "brain_name = env.brain_names[0]\n",
    "brain = env.brains[brain_name]\n",
    "\n",
    "# reset the environment\n",
    "env_info = env.reset(train_mode=True)[brain_name]\n",
    "\n",
    "# number of agents\n",
    "num_agents = len(env_info.agents)\n",
    "print('Number of agents:', num_agents)\n",
    "\n",
    "# size of each action\n",
    "action_size = brain.vector_action_space_size\n",
    "print('Size of each action:', action_size)\n",
    "\n",
    "# examine the state space \n",
    "states = env_info.vector_observations\n",
    "state_size = states.shape[1]\n",
    "print('There are {} agents. Each observes a state with length: {}'.format(states.shape[0], state_size))\n",
    "print('The state for the first agent looks like:', states[0])\n"
   ]
  },
  {
   "cell_type": "code",
   "execution_count": 11,
   "metadata": {},
   "outputs": [],
   "source": [
    "writer = None\n",
    "EPS_START = 1.0\n",
    "EPS_END = 0.1\n",
    "LIN_EPS_DECAY = 1e-6"
   ]
  },
  {
   "cell_type": "code",
   "execution_count": 12,
   "metadata": {},
   "outputs": [],
   "source": [
    "def load_model(model, path, model_name, device):\n",
    "    model.load_state_dict(torch.load(os.path.join(path, model_name)))"
   ]
  },
  {
   "cell_type": "code",
   "execution_count": 13,
   "metadata": {},
   "outputs": [],
   "source": [
    "def ddpg(env, ckp_path, n_episodes=1500, max_t=1000,\n",
    "         print_every=10, save_every=100):\n",
    "\n",
    "    device = torch.device(\"cuda:0\" if torch.cuda.is_available() else \"cpu\")\n",
    "    # agent_number\n",
    "    agent_number = 0\n",
    "    # get the default brain\n",
    "    brain_name = env.brain_names[0]\n",
    "    print('Brain name: %s' % brain_name)\n",
    "    brain = env.brains[brain_name]\n",
    "    print(brain)\n",
    "    # reset the environment\n",
    "    env_info = env.reset(train_mode=True)[brain_name]\n",
    "\n",
    "    # number of agents\n",
    "    num_agents = len(env_info.agents)\n",
    "    print('Number of agents:', num_agents)\n",
    "\n",
    "    # size of each action\n",
    "    action_size = brain.vector_action_space_size\n",
    "    print('Size of each action:', action_size)\n",
    "\n",
    "    # examine the state space\n",
    "    states = env_info.vector_observations\n",
    "    state_size = states.shape[1]\n",
    "    print('There are {} agents. Each observes a state with length: {}'\n",
    "          .format(states.shape[0], state_size))\n",
    "    print('The state for the first agent looks like:', states[0])\n",
    "\n",
    "    random_seed = 0\n",
    "\n",
    "    agent = Agent(state_size, action_size,\n",
    "                  random_seed, writer)\n",
    "\n",
    "    if ckp_path != '':\n",
    "        load_model(agent.actor_local, ckp_path, 'checkpoint_actor.pth', device)\n",
    "        print('Actor model loaded from %s ' % ckp_path)\n",
    "        load_model(agent.critic_local, ckp_path, 'checkpoint_critic.pth', device)\n",
    "        print('Critic model loaded from %s ' % ckp_path)\n",
    "\n",
    "    scores_deque = deque(maxlen=100)\n",
    "    scores = []\n",
    "    eps = EPS_START\n",
    "    best_score = 0.0\n",
    "    for i_episode in range(1, n_episodes+1):\n",
    "        # state = env.reset()\n",
    "        env_info = env.reset(train_mode=True)[brain_name]\n",
    "        state = env_info.vector_observations[0]\n",
    "        agent.reset()\n",
    "        # score = np.zeros(1)\n",
    "        score = 0.0\n",
    "        for t in range(max_t+1):\n",
    "            action = agent.act(state, eps)\n",
    "            # next_state, reward, done, _ = env.step(action)\n",
    "            env_info = env.step(action)[brain_name]\n",
    "            next_state = env_info.vector_observations[0]\n",
    "            reward = env_info.rewards[0]\n",
    "            done = env_info.local_done[0]\n",
    "            agent.step(state, action, reward, next_state, done)\n",
    "            state = next_state\n",
    "            score += reward\n",
    "            eps = eps - LIN_EPS_DECAY\n",
    "            eps = np.maximum(eps, EPS_END)\n",
    "\n",
    "            if done:\n",
    "                break\n",
    "\n",
    "        scores_deque.append(score)\n",
    "        scores.append(score)\n",
    "        print('\\rEpisode {}\\tAverage Score: {:.2f}'\n",
    "              .format(i_episode, np.mean(scores_deque)), end=\"\")\n",
    "\n",
    "        if score > best_score:\n",
    "            best_score = score\n",
    "            if i_episode > 30:\n",
    "                torch.save(agent.actor_local.state_dict(),\n",
    "                           'checkpoint_actor.pth')\n",
    "                torch.save(agent.critic_local.state_dict(),\n",
    "                           'checkpoint_critic.pth')\n",
    "\n",
    "        if i_episode % print_every == 0:\n",
    "            print('\\rEpisode {}\\tAverage Score: {:.2f}'\n",
    "                  .format(i_episode, np.mean(scores_deque)))\n",
    "\n",
    "        if np.mean(scores_deque) > 30.0 and np.mean(scores_deque) <= 31.5:\n",
    "            print('\\nEnvironment solved in {:d} ' +\n",
    "                  'episodes!\\tAverage Score: {:.2f}'\n",
    "                  .format(i_episode-100, np.mean(scores_deque)))\n",
    "            torch.save(agent.actor_local.state_dict(),\n",
    "                       'solved_actor_trained_model.pth')\n",
    "            torch.save(agent.critic_local.state_dict(),\n",
    "                       'solved_critic_trained_model.pth')\n",
    "\n",
    "    return scores"
   ]
  },
  {
   "cell_type": "code",
   "execution_count": 14,
   "metadata": {},
   "outputs": [
    {
     "name": "stdout",
     "output_type": "stream",
     "text": [
      "Brain name: ReacherBrain\n",
      "Unity brain name: ReacherBrain\n",
      "        Number of Visual Observations (per agent): 0\n",
      "        Vector Observation space type: continuous\n",
      "        Vector Observation space size (per agent): 33\n",
      "        Number of stacked Vector Observation: 1\n",
      "        Vector Action space type: continuous\n",
      "        Vector Action space size (per agent): 4\n",
      "        Vector Action descriptions: , , , \n",
      "Number of agents: 1\n",
      "Size of each action: 4\n",
      "There are 1 agents. Each observes a state with length: 33\n",
      "The state for the first agent looks like: [  0.00000000e+00  -4.00000000e+00   0.00000000e+00   1.00000000e+00\n",
      "  -0.00000000e+00  -0.00000000e+00  -4.37113883e-08   0.00000000e+00\n",
      "   0.00000000e+00   0.00000000e+00   0.00000000e+00   0.00000000e+00\n",
      "   0.00000000e+00   0.00000000e+00  -1.00000000e+01   0.00000000e+00\n",
      "   1.00000000e+00  -0.00000000e+00  -0.00000000e+00  -4.37113883e-08\n",
      "   0.00000000e+00   0.00000000e+00   0.00000000e+00   0.00000000e+00\n",
      "   0.00000000e+00   0.00000000e+00  -6.30408478e+00  -1.00000000e+00\n",
      "  -4.92529202e+00   0.00000000e+00   1.00000000e+00   0.00000000e+00\n",
      "  -5.33014059e-01]\n",
      "Actor model initializated! Actor model summary:\n",
      "Actor(\n",
      "  (fc1): Linear(in_features=33, out_features=256, bias=True)\n",
      "  (fc2): Linear(in_features=256, out_features=128, bias=True)\n",
      "  (fc3): Linear(in_features=128, out_features=64, bias=True)\n",
      "  (fc4): Linear(in_features=64, out_features=4, bias=True)\n",
      ")\n",
      "Critic model initializated! Critic model summary:\n",
      "Critic(\n",
      "  (fcs1): Linear(in_features=33, out_features=256, bias=True)\n",
      "  (fc2): Linear(in_features=260, out_features=128, bias=True)\n",
      "  (fc3): Linear(in_features=128, out_features=64, bias=True)\n",
      "  (fc4): Linear(in_features=64, out_features=1, bias=True)\n",
      ")\n",
      "Episode 10\tAverage Score: 0.25\n",
      "Episode 20\tAverage Score: 0.64\n",
      "Episode 30\tAverage Score: 0.57\n",
      "Episode 40\tAverage Score: 0.53\n",
      "Episode 50\tAverage Score: 0.55\n",
      "Episode 60\tAverage Score: 0.53\n",
      "Episode 70\tAverage Score: 0.56\n",
      "Episode 80\tAverage Score: 0.61\n",
      "Episode 90\tAverage Score: 0.67\n",
      "Episode 100\tAverage Score: 0.69\n",
      "Episode 110\tAverage Score: 0.77\n",
      "Episode 120\tAverage Score: 0.76\n",
      "Episode 130\tAverage Score: 0.84\n",
      "Episode 140\tAverage Score: 0.90\n",
      "Episode 150\tAverage Score: 0.97\n",
      "Episode 160\tAverage Score: 1.09\n",
      "Episode 170\tAverage Score: 1.16\n",
      "Episode 180\tAverage Score: 1.22\n",
      "Episode 190\tAverage Score: 1.27\n",
      "Episode 200\tAverage Score: 1.40\n",
      "Episode 210\tAverage Score: 1.49\n",
      "Episode 220\tAverage Score: 1.62\n",
      "Episode 230\tAverage Score: 1.75\n",
      "Episode 240\tAverage Score: 1.91\n",
      "Episode 250\tAverage Score: 2.09\n",
      "Episode 260\tAverage Score: 2.17\n",
      "Episode 270\tAverage Score: 2.33\n",
      "Episode 280\tAverage Score: 2.45\n",
      "Episode 290\tAverage Score: 2.64\n",
      "Episode 300\tAverage Score: 2.80\n",
      "Episode 310\tAverage Score: 3.00\n",
      "Episode 320\tAverage Score: 3.15\n",
      "Episode 330\tAverage Score: 3.43\n",
      "Episode 340\tAverage Score: 3.69\n",
      "Episode 350\tAverage Score: 3.91\n",
      "Episode 360\tAverage Score: 4.29\n",
      "Episode 370\tAverage Score: 4.72\n",
      "Episode 380\tAverage Score: 5.14\n",
      "Episode 390\tAverage Score: 5.49\n",
      "Episode 400\tAverage Score: 5.75\n",
      "Episode 410\tAverage Score: 6.14\n",
      "Episode 420\tAverage Score: 6.48\n",
      "Episode 430\tAverage Score: 6.75\n",
      "Episode 440\tAverage Score: 7.02\n",
      "Episode 450\tAverage Score: 7.39\n",
      "Episode 460\tAverage Score: 7.75\n",
      "Episode 470\tAverage Score: 8.08\n",
      "Episode 480\tAverage Score: 8.37\n",
      "Episode 490\tAverage Score: 8.64\n",
      "Episode 500\tAverage Score: 9.00\n",
      "Episode 510\tAverage Score: 9.54\n",
      "Episode 520\tAverage Score: 9.96\n",
      "Episode 530\tAverage Score: 10.46\n",
      "Episode 540\tAverage Score: 10.99\n",
      "Episode 550\tAverage Score: 11.37\n",
      "Episode 560\tAverage Score: 11.75\n",
      "Episode 570\tAverage Score: 12.12\n",
      "Episode 580\tAverage Score: 12.46\n",
      "Episode 590\tAverage Score: 13.02\n",
      "Episode 600\tAverage Score: 13.48\n",
      "Episode 610\tAverage Score: 13.89\n",
      "Episode 620\tAverage Score: 14.46\n",
      "Episode 630\tAverage Score: 14.95\n",
      "Episode 640\tAverage Score: 15.35\n",
      "Episode 650\tAverage Score: 15.74\n",
      "Episode 660\tAverage Score: 16.33\n",
      "Episode 670\tAverage Score: 16.78\n",
      "Episode 680\tAverage Score: 17.28\n",
      "Episode 690\tAverage Score: 17.63\n",
      "Episode 700\tAverage Score: 17.94\n",
      "Episode 710\tAverage Score: 18.08\n",
      "Episode 720\tAverage Score: 18.32\n",
      "Episode 730\tAverage Score: 18.56\n",
      "Episode 740\tAverage Score: 18.82\n",
      "Episode 750\tAverage Score: 19.50\n",
      "Episode 760\tAverage Score: 19.90\n",
      "Episode 770\tAverage Score: 20.49\n",
      "Episode 780\tAverage Score: 20.95\n",
      "Episode 790\tAverage Score: 21.49\n",
      "Episode 800\tAverage Score: 22.17\n",
      "Episode 810\tAverage Score: 22.74\n",
      "Episode 820\tAverage Score: 23.37\n",
      "Episode 830\tAverage Score: 24.05\n",
      "Episode 840\tAverage Score: 24.81\n",
      "Episode 850\tAverage Score: 25.36\n",
      "Episode 860\tAverage Score: 26.18\n",
      "Episode 870\tAverage Score: 26.52\n",
      "Episode 880\tAverage Score: 27.11\n",
      "Episode 890\tAverage Score: 27.36\n",
      "Episode 900\tAverage Score: 27.92\n",
      "Episode 910\tAverage Score: 28.56\n",
      "Episode 920\tAverage Score: 28.86\n",
      "Episode 930\tAverage Score: 29.11\n",
      "Episode 940\tAverage Score: 29.02\n",
      "Episode 950\tAverage Score: 28.71\n",
      "Episode 960\tAverage Score: 28.38\n",
      "Episode 970\tAverage Score: 27.97\n",
      "Episode 980\tAverage Score: 28.02\n",
      "Episode 990\tAverage Score: 28.15\n",
      "Episode 1000\tAverage Score: 28.14\n",
      "Episode 1010\tAverage Score: 28.09\n",
      "Episode 1020\tAverage Score: 28.35\n",
      "Episode 1030\tAverage Score: 28.64\n",
      "Episode 1040\tAverage Score: 28.96\n",
      "Episode 1050\tAverage Score: 29.83\n",
      "Episode 1058\tAverage Score: 30.03\n",
      "Environment solved in {:d} episodes!\tAverage Score: 958.00\n",
      "Episode 1059\tAverage Score: 30.09\n",
      "Environment solved in {:d} episodes!\tAverage Score: 959.00\n",
      "Episode 1060\tAverage Score: 30.13\n",
      "\n",
      "Environment solved in {:d} episodes!\tAverage Score: 960.00\n",
      "Episode 1061\tAverage Score: 30.23\n",
      "Environment solved in {:d} episodes!\tAverage Score: 961.00\n",
      "Episode 1062\tAverage Score: 30.28\n",
      "Environment solved in {:d} episodes!\tAverage Score: 962.00\n",
      "Episode 1063\tAverage Score: 30.24\n",
      "Environment solved in {:d} episodes!\tAverage Score: 963.00\n",
      "Episode 1064\tAverage Score: 30.43\n",
      "Environment solved in {:d} episodes!\tAverage Score: 964.00\n",
      "Episode 1065\tAverage Score: 30.57\n",
      "Environment solved in {:d} episodes!\tAverage Score: 965.00\n",
      "Episode 1066\tAverage Score: 30.62\n",
      "Environment solved in {:d} episodes!\tAverage Score: 966.00\n",
      "Episode 1067\tAverage Score: 30.74\n",
      "Environment solved in {:d} episodes!\tAverage Score: 967.00\n",
      "Episode 1068\tAverage Score: 30.86\n",
      "Environment solved in {:d} episodes!\tAverage Score: 968.00\n",
      "Episode 1069\tAverage Score: 31.15\n",
      "Environment solved in {:d} episodes!\tAverage Score: 969.00\n",
      "Episode 1070\tAverage Score: 31.27\n",
      "\n",
      "Environment solved in {:d} episodes!\tAverage Score: 970.00\n",
      "Episode 1071\tAverage Score: 31.14\n",
      "Environment solved in {:d} episodes!\tAverage Score: 971.00\n",
      "Episode 1072\tAverage Score: 31.13\n",
      "Environment solved in {:d} episodes!\tAverage Score: 972.00\n",
      "Episode 1073\tAverage Score: 31.14\n",
      "Environment solved in {:d} episodes!\tAverage Score: 973.00\n",
      "Episode 1074\tAverage Score: 31.30\n",
      "Environment solved in {:d} episodes!\tAverage Score: 974.00\n",
      "Episode 1075\tAverage Score: 31.39\n",
      "Environment solved in {:d} episodes!\tAverage Score: 975.00\n",
      "Episode 1076\tAverage Score: 31.43\n",
      "Environment solved in {:d} episodes!\tAverage Score: 976.00\n",
      "Episode 1077\tAverage Score: 31.50\n",
      "Environment solved in {:d} episodes!\tAverage Score: 977.00\n",
      "Episode 1078\tAverage Score: 31.50\n",
      "Environment solved in {:d} episodes!\tAverage Score: 978.00\n",
      "Episode 1080\tAverage Score: 31.63\n",
      "Episode 1090\tAverage Score: 32.13\n",
      "Episode 1100\tAverage Score: 32.51\n",
      "Episode 1110\tAverage Score: 33.22\n",
      "Episode 1120\tAverage Score: 33.28\n",
      "Episode 1130\tAverage Score: 33.71\n",
      "Episode 1140\tAverage Score: 34.37\n",
      "Episode 1150\tAverage Score: 34.51\n",
      "Episode 1160\tAverage Score: 35.13\n",
      "Episode 1170\tAverage Score: 35.44\n",
      "Episode 1180\tAverage Score: 35.91\n",
      "Episode 1190\tAverage Score: 36.40\n",
      "Episode 1200\tAverage Score: 36.67\n",
      "Episode 1210\tAverage Score: 36.62\n",
      "Episode 1220\tAverage Score: 37.29\n",
      "Episode 1230\tAverage Score: 37.45\n",
      "Episode 1240\tAverage Score: 37.66\n",
      "Episode 1250\tAverage Score: 37.82\n",
      "Episode 1260\tAverage Score: 37.86\n",
      "Episode 1270\tAverage Score: 37.72\n",
      "Episode 1280\tAverage Score: 37.71\n",
      "Episode 1290\tAverage Score: 37.72\n",
      "Episode 1300\tAverage Score: 37.66\n",
      "Episode 1310\tAverage Score: 37.79\n",
      "Episode 1320\tAverage Score: 37.72\n",
      "Episode 1330\tAverage Score: 37.72\n",
      "Episode 1340\tAverage Score: 37.71\n",
      "Episode 1350\tAverage Score: 37.77\n",
      "Episode 1360\tAverage Score: 37.71\n",
      "Episode 1370\tAverage Score: 37.86\n",
      "Episode 1380\tAverage Score: 37.89\n",
      "Episode 1390\tAverage Score: 37.87\n",
      "Episode 1400\tAverage Score: 38.15\n",
      "Episode 1410\tAverage Score: 38.07\n",
      "Episode 1420\tAverage Score: 38.13\n",
      "Episode 1430\tAverage Score: 38.08\n",
      "Episode 1440\tAverage Score: 38.13\n",
      "Episode 1450\tAverage Score: 38.21\n",
      "Episode 1460\tAverage Score: 38.36\n",
      "Episode 1470\tAverage Score: 38.39\n",
      "Episode 1480\tAverage Score: 38.39\n",
      "Episode 1490\tAverage Score: 38.48\n",
      "Episode 1500\tAverage Score: 38.47\n"
     ]
    }
   ],
   "source": [
    "with active_session():\n",
    "    scores = ddpg(env, '')"
   ]
  },
  {
   "cell_type": "code",
   "execution_count": 15,
   "metadata": {},
   "outputs": [],
   "source": [
    "import matplotlib.pyplot as plt\n",
    "\n",
    "def plot_score_chart(scores):\n",
    "    fig = plt.figure()\n",
    "    fig.add_subplot(111)\n",
    "    plt.plot(np.arange(len(scores)), scores)\n",
    "    plt.title(\"Scores\")\n",
    "    rolling_mean = pd.Series(scores).rolling(100).mean()\n",
    "    plt.plot(rolling_mean)\n",
    "    plt.show()\n"
   ]
  },
  {
   "cell_type": "code",
   "execution_count": 16,
   "metadata": {},
   "outputs": [
    {
     "ename": "NameError",
     "evalue": "name 'pd' is not defined",
     "output_type": "error",
     "traceback": [
      "\u001b[0;31m---------------------------------------------------------------------------\u001b[0m",
      "\u001b[0;31mNameError\u001b[0m                                 Traceback (most recent call last)",
      "\u001b[0;32m<ipython-input-16-c0d094115728>\u001b[0m in \u001b[0;36m<module>\u001b[0;34m()\u001b[0m\n\u001b[0;32m----> 1\u001b[0;31m \u001b[0mplot_score_chart\u001b[0m\u001b[0;34m(\u001b[0m\u001b[0mscores\u001b[0m\u001b[0;34m)\u001b[0m\u001b[0;34m\u001b[0m\u001b[0m\n\u001b[0m",
      "\u001b[0;32m<ipython-input-15-1d8ca1d73eea>\u001b[0m in \u001b[0;36mplot_score_chart\u001b[0;34m(scores)\u001b[0m\n\u001b[1;32m      6\u001b[0m     \u001b[0mplt\u001b[0m\u001b[0;34m.\u001b[0m\u001b[0mplot\u001b[0m\u001b[0;34m(\u001b[0m\u001b[0mnp\u001b[0m\u001b[0;34m.\u001b[0m\u001b[0marange\u001b[0m\u001b[0;34m(\u001b[0m\u001b[0mlen\u001b[0m\u001b[0;34m(\u001b[0m\u001b[0mscores\u001b[0m\u001b[0;34m)\u001b[0m\u001b[0;34m)\u001b[0m\u001b[0;34m,\u001b[0m \u001b[0mscores\u001b[0m\u001b[0;34m)\u001b[0m\u001b[0;34m\u001b[0m\u001b[0m\n\u001b[1;32m      7\u001b[0m     \u001b[0mplt\u001b[0m\u001b[0;34m.\u001b[0m\u001b[0mtitle\u001b[0m\u001b[0;34m(\u001b[0m\u001b[0;34m\"Scores\"\u001b[0m\u001b[0;34m)\u001b[0m\u001b[0;34m\u001b[0m\u001b[0m\n\u001b[0;32m----> 8\u001b[0;31m     \u001b[0mrolling_mean\u001b[0m \u001b[0;34m=\u001b[0m \u001b[0mpd\u001b[0m\u001b[0;34m.\u001b[0m\u001b[0mSeries\u001b[0m\u001b[0;34m(\u001b[0m\u001b[0mscores\u001b[0m\u001b[0;34m)\u001b[0m\u001b[0;34m.\u001b[0m\u001b[0mrolling\u001b[0m\u001b[0;34m(\u001b[0m\u001b[0;36m100\u001b[0m\u001b[0;34m)\u001b[0m\u001b[0;34m.\u001b[0m\u001b[0mmean\u001b[0m\u001b[0;34m(\u001b[0m\u001b[0;34m)\u001b[0m\u001b[0;34m\u001b[0m\u001b[0m\n\u001b[0m\u001b[1;32m      9\u001b[0m     \u001b[0mplt\u001b[0m\u001b[0;34m.\u001b[0m\u001b[0mplot\u001b[0m\u001b[0;34m(\u001b[0m\u001b[0mrolling_mean\u001b[0m\u001b[0;34m)\u001b[0m\u001b[0;34m\u001b[0m\u001b[0m\n\u001b[1;32m     10\u001b[0m     \u001b[0mplt\u001b[0m\u001b[0;34m.\u001b[0m\u001b[0mshow\u001b[0m\u001b[0;34m(\u001b[0m\u001b[0;34m)\u001b[0m\u001b[0;34m\u001b[0m\u001b[0m\n",
      "\u001b[0;31mNameError\u001b[0m: name 'pd' is not defined"
     ]
    },
    {
     "data": {
      "image/png": "[encoded data removed]",
      "text/plain": [
       "<matplotlib.figure.Figure at 0x7f8ca6394198>"
      ]
     },
     "metadata": {
      "needs_background": "light"
     },
     "output_type": "display_data"
    }
   ],
   "source": [
    "plot_score_chart(scores)"
   ]
  },
  {
   "cell_type": "code",
   "execution_count": null,
   "metadata": {},
   "outputs": [],
   "source": []
  }
 ],
 "metadata": {
  "kernelspec": {
   "display_name": "Python 3",
   "language": "python",
   "name": "python3"
  },
  "language_info": {
   "codemirror_mode": {
    "name": "ipython",
    "version": 3
   },
   "file_extension": ".py",
   "mimetype": "text/x-python",
   "name": "python",
   "nbconvert_exporter": "python",
   "pygments_lexer": "ipython3",
   "version": "3.6.3"
  }
 },
 "nbformat": 4,
 "nbformat_minor": 2
}
